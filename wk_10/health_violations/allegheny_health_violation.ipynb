{
 "cells": [
  {
   "cell_type": "markdown",
   "metadata": {},
   "source": [
    "# Allegheny County Health Violation Analysis\n",
    "\n",
    "## Program Objective\n",
    "\n",
    "Write a script that answers basic data-based questions concerning health violations in Allgheny county\n",
    "\n",
    "## Questions to Pursue in Allegheny County Health Code Violations\n",
    "\n",
    "1. What types of health violations are most common in three municipal areas of your choosing?\n",
    "2. Which types of violations are mostly only considered \"high\" severity and not \"medium\" or \"low\" severity?\n",
    "3. Which classification of restaurant (i.e. use the column 'description') has the most \"high\" severity violations? Does this vary by the municipalities of your choosing?\n",
    "\n",
    "\n"
   ]
  },
  {
   "cell_type": "code",
   "execution_count": 131,
   "metadata": {},
   "outputs": [],
   "source": [
    "import pandas as pd\n",
    "import numpy as np\n",
    "import matplotlib as plt\n",
    "%matplotlib inline\n",
    "# show all columns in a dataframe\n",
    "pd.set_option('display.max_columns', None)\n",
    "\n",
    "\n",
    "df = pd.read_csv('data/allegheny_county_food_violations.csv')"
   ]
  },
  {
   "cell_type": "code",
   "execution_count": 132,
   "metadata": {},
   "outputs": [
    {
     "data": {
      "text/html": [
       "<div>\n",
       "<style scoped>\n",
       "    .dataframe tbody tr th:only-of-type {\n",
       "        vertical-align: middle;\n",
       "    }\n",
       "\n",
       "    .dataframe tbody tr th {\n",
       "        vertical-align: top;\n",
       "    }\n",
       "\n",
       "    .dataframe thead th {\n",
       "        text-align: right;\n",
       "    }\n",
       "</style>\n",
       "<table border=\"1\" class=\"dataframe\">\n",
       "  <thead>\n",
       "    <tr style=\"text-align: right;\">\n",
       "      <th></th>\n",
       "      <th>encounter</th>\n",
       "      <th>id</th>\n",
       "      <th>placard_st</th>\n",
       "      <th>facility_name</th>\n",
       "      <th>bus_st_date</th>\n",
       "      <th>description</th>\n",
       "      <th>description_new</th>\n",
       "      <th>num</th>\n",
       "      <th>street</th>\n",
       "      <th>city</th>\n",
       "      <th>state</th>\n",
       "      <th>zip</th>\n",
       "      <th>inspect_dt</th>\n",
       "      <th>start_time</th>\n",
       "      <th>end_time</th>\n",
       "      <th>municipal</th>\n",
       "      <th>rating</th>\n",
       "      <th>low</th>\n",
       "      <th>medium</th>\n",
       "      <th>high</th>\n",
       "      <th>url</th>\n",
       "    </tr>\n",
       "  </thead>\n",
       "  <tbody>\n",
       "    <tr>\n",
       "      <th>0</th>\n",
       "      <td>201502270009</td>\n",
       "      <td>10762</td>\n",
       "      <td>1</td>\n",
       "      <td>North Versailles VFD / South Wilmerding Social...</td>\n",
       "      <td>1969-01-01</td>\n",
       "      <td>Social Club-Bar Only</td>\n",
       "      <td>Handwashing Facilities</td>\n",
       "      <td>830</td>\n",
       "      <td>Sylvan Ave</td>\n",
       "      <td>North Versailles</td>\n",
       "      <td>PA</td>\n",
       "      <td>15137.0</td>\n",
       "      <td>2015-02-27</td>\n",
       "      <td>10:45:00</td>\n",
       "      <td>11:30:00</td>\n",
       "      <td>North Versailles</td>\n",
       "      <td>V</td>\n",
       "      <td>T</td>\n",
       "      <td>F</td>\n",
       "      <td>F</td>\n",
       "      <td>http://appsrv.alleghenycounty.us/reports/rwser...</td>\n",
       "    </tr>\n",
       "    <tr>\n",
       "      <th>1</th>\n",
       "      <td>201502270009</td>\n",
       "      <td>10762</td>\n",
       "      <td>1</td>\n",
       "      <td>North Versailles VFD / South Wilmerding Social...</td>\n",
       "      <td>1969-01-01</td>\n",
       "      <td>Social Club-Bar Only</td>\n",
       "      <td>Fabrication, Design, Installation and Maintenance</td>\n",
       "      <td>830</td>\n",
       "      <td>Sylvan Ave</td>\n",
       "      <td>North Versailles</td>\n",
       "      <td>PA</td>\n",
       "      <td>15137.0</td>\n",
       "      <td>2015-02-27</td>\n",
       "      <td>10:45:00</td>\n",
       "      <td>11:30:00</td>\n",
       "      <td>North Versailles</td>\n",
       "      <td>V</td>\n",
       "      <td>T</td>\n",
       "      <td>F</td>\n",
       "      <td>F</td>\n",
       "      <td>http://appsrv.alleghenycounty.us/reports/rwser...</td>\n",
       "    </tr>\n",
       "    <tr>\n",
       "      <th>2</th>\n",
       "      <td>201602100042</td>\n",
       "      <td>10762</td>\n",
       "      <td>1</td>\n",
       "      <td>North Versailles VFD / South Wilmerding Social...</td>\n",
       "      <td>1969-01-01</td>\n",
       "      <td>Social Club-Bar Only</td>\n",
       "      <td>Employee Personal Hygiene</td>\n",
       "      <td>830</td>\n",
       "      <td>Sylvan Ave</td>\n",
       "      <td>North Versailles</td>\n",
       "      <td>PA</td>\n",
       "      <td>15137.0</td>\n",
       "      <td>2016-02-10</td>\n",
       "      <td>14:00:00</td>\n",
       "      <td>14:50:00</td>\n",
       "      <td>North Versailles</td>\n",
       "      <td>V</td>\n",
       "      <td>F</td>\n",
       "      <td>F</td>\n",
       "      <td>T</td>\n",
       "      <td>http://appsrv.alleghenycounty.us/reports/rwser...</td>\n",
       "    </tr>\n",
       "    <tr>\n",
       "      <th>3</th>\n",
       "      <td>201602100042</td>\n",
       "      <td>10762</td>\n",
       "      <td>1</td>\n",
       "      <td>North Versailles VFD / South Wilmerding Social...</td>\n",
       "      <td>1969-01-01</td>\n",
       "      <td>Social Club-Bar Only</td>\n",
       "      <td>Handwashing Facilities</td>\n",
       "      <td>830</td>\n",
       "      <td>Sylvan Ave</td>\n",
       "      <td>North Versailles</td>\n",
       "      <td>PA</td>\n",
       "      <td>15137.0</td>\n",
       "      <td>2016-02-10</td>\n",
       "      <td>14:00:00</td>\n",
       "      <td>14:50:00</td>\n",
       "      <td>North Versailles</td>\n",
       "      <td>V</td>\n",
       "      <td>T</td>\n",
       "      <td>F</td>\n",
       "      <td>F</td>\n",
       "      <td>http://appsrv.alleghenycounty.us/reports/rwser...</td>\n",
       "    </tr>\n",
       "    <tr>\n",
       "      <th>4</th>\n",
       "      <td>201602100042</td>\n",
       "      <td>10762</td>\n",
       "      <td>1</td>\n",
       "      <td>North Versailles VFD / South Wilmerding Social...</td>\n",
       "      <td>1969-01-01</td>\n",
       "      <td>Social Club-Bar Only</td>\n",
       "      <td>Contamination Prevention - Food, Utensils and ...</td>\n",
       "      <td>830</td>\n",
       "      <td>Sylvan Ave</td>\n",
       "      <td>North Versailles</td>\n",
       "      <td>PA</td>\n",
       "      <td>15137.0</td>\n",
       "      <td>2016-02-10</td>\n",
       "      <td>14:00:00</td>\n",
       "      <td>14:50:00</td>\n",
       "      <td>North Versailles</td>\n",
       "      <td>V</td>\n",
       "      <td>T</td>\n",
       "      <td>F</td>\n",
       "      <td>F</td>\n",
       "      <td>http://appsrv.alleghenycounty.us/reports/rwser...</td>\n",
       "    </tr>\n",
       "  </tbody>\n",
       "</table>\n",
       "</div>"
      ],
      "text/plain": [
       "      encounter     id  placard_st  \\\n",
       "0  201502270009  10762           1   \n",
       "1  201502270009  10762           1   \n",
       "2  201602100042  10762           1   \n",
       "3  201602100042  10762           1   \n",
       "4  201602100042  10762           1   \n",
       "\n",
       "                                       facility_name bus_st_date  \\\n",
       "0  North Versailles VFD / South Wilmerding Social...  1969-01-01   \n",
       "1  North Versailles VFD / South Wilmerding Social...  1969-01-01   \n",
       "2  North Versailles VFD / South Wilmerding Social...  1969-01-01   \n",
       "3  North Versailles VFD / South Wilmerding Social...  1969-01-01   \n",
       "4  North Versailles VFD / South Wilmerding Social...  1969-01-01   \n",
       "\n",
       "            description                                    description_new  \\\n",
       "0  Social Club-Bar Only                             Handwashing Facilities   \n",
       "1  Social Club-Bar Only  Fabrication, Design, Installation and Maintenance   \n",
       "2  Social Club-Bar Only                          Employee Personal Hygiene   \n",
       "3  Social Club-Bar Only                             Handwashing Facilities   \n",
       "4  Social Club-Bar Only  Contamination Prevention - Food, Utensils and ...   \n",
       "\n",
       "   num      street              city state      zip  inspect_dt start_time  \\\n",
       "0  830  Sylvan Ave  North Versailles    PA  15137.0  2015-02-27   10:45:00   \n",
       "1  830  Sylvan Ave  North Versailles    PA  15137.0  2015-02-27   10:45:00   \n",
       "2  830  Sylvan Ave  North Versailles    PA  15137.0  2016-02-10   14:00:00   \n",
       "3  830  Sylvan Ave  North Versailles    PA  15137.0  2016-02-10   14:00:00   \n",
       "4  830  Sylvan Ave  North Versailles    PA  15137.0  2016-02-10   14:00:00   \n",
       "\n",
       "   end_time         municipal rating low medium high  \\\n",
       "0  11:30:00  North Versailles      V   T      F    F   \n",
       "1  11:30:00  North Versailles      V   T      F    F   \n",
       "2  14:50:00  North Versailles      V   F      F    T   \n",
       "3  14:50:00  North Versailles      V   T      F    F   \n",
       "4  14:50:00  North Versailles      V   T      F    F   \n",
       "\n",
       "                                                 url  \n",
       "0  http://appsrv.alleghenycounty.us/reports/rwser...  \n",
       "1  http://appsrv.alleghenycounty.us/reports/rwser...  \n",
       "2  http://appsrv.alleghenycounty.us/reports/rwser...  \n",
       "3  http://appsrv.alleghenycounty.us/reports/rwser...  \n",
       "4  http://appsrv.alleghenycounty.us/reports/rwser...  "
      ]
     },
     "execution_count": 132,
     "metadata": {},
     "output_type": "execute_result"
    }
   ],
   "source": [
    "df.head()"
   ]
  },
  {
   "cell_type": "markdown",
   "metadata": {},
   "source": [
    "## Data Assessment\n",
    "\n",
    "__Completeness__:  Do we have all of the records that we should?  Do we have missing records or not? Are there specific rows, columns, or cells missing?\n",
    "\n",
    "__Validity__:  Does the data conform to a defined schema?  A schema is a defined set of rules for data. These rules can be real-world constraints (e.g. negative height is impossible) and table-specific constraints (e.g. unique key constraints in tables).\n",
    "\n",
    "__Accuracy__:  Inaccurate data is wrong data that is valid. It adheres to the defined schema, but it is still incorrect.  An example of inaccurate data are typos.\n",
    "\n",
    "__Consistency__:  Inconsistent data is both valid and accurate, but there are multiple correct ways of referring to the same thing.  An example of inconsistent data is inconsistent capitalization in textual data."
   ]
  },
  {
   "cell_type": "code",
   "execution_count": 133,
   "metadata": {},
   "outputs": [
    {
     "name": "stdout",
     "output_type": "stream",
     "text": [
      "<class 'pandas.core.frame.DataFrame'>\n",
      "RangeIndex: 238859 entries, 0 to 238858\n",
      "Data columns (total 21 columns):\n",
      "encounter          238859 non-null int64\n",
      "id                 238859 non-null int64\n",
      "placard_st         238859 non-null int64\n",
      "facility_name      236827 non-null object\n",
      "bus_st_date        236688 non-null object\n",
      "description        236827 non-null object\n",
      "description_new    238859 non-null object\n",
      "num                235384 non-null object\n",
      "street             236827 non-null object\n",
      "city               236827 non-null object\n",
      "state              236827 non-null object\n",
      "zip                236827 non-null float64\n",
      "inspect_dt         238859 non-null object\n",
      "start_time         238859 non-null object\n",
      "end_time           238758 non-null object\n",
      "municipal          236827 non-null object\n",
      "rating             238859 non-null object\n",
      "low                233385 non-null object\n",
      "medium             186672 non-null object\n",
      "high               186672 non-null object\n",
      "url                238859 non-null object\n",
      "dtypes: float64(1), int64(3), object(17)\n",
      "memory usage: 38.3+ MB\n"
     ]
    }
   ],
   "source": [
    "# Check the data type of each column\n",
    "df.info()"
   ]
  },
  {
   "cell_type": "code",
   "execution_count": 134,
   "metadata": {},
   "outputs": [
    {
     "data": {
      "text/plain": [
       "encounter              0\n",
       "id                     0\n",
       "placard_st             0\n",
       "facility_name       2032\n",
       "bus_st_date         2171\n",
       "description         2032\n",
       "description_new        0\n",
       "num                 3475\n",
       "street              2032\n",
       "city                2032\n",
       "state               2032\n",
       "zip                 2032\n",
       "inspect_dt             0\n",
       "start_time             0\n",
       "end_time             101\n",
       "municipal           2032\n",
       "rating                 0\n",
       "low                 5474\n",
       "medium             52187\n",
       "high               52187\n",
       "url                    0\n",
       "dtype: int64"
      ]
     },
     "execution_count": 134,
     "metadata": {},
     "output_type": "execute_result"
    }
   ],
   "source": [
    "# Count how many rows contain null values\n",
    "df.isnull().sum()"
   ]
  },
  {
   "cell_type": "code",
   "execution_count": 135,
   "metadata": {},
   "outputs": [
    {
     "data": {
      "text/plain": [
       "0"
      ]
     },
     "execution_count": 135,
     "metadata": {},
     "output_type": "execute_result"
    }
   ],
   "source": [
    "# Check duplicated rows\n",
    "df.duplicated().sum()"
   ]
  },
  {
   "cell_type": "markdown",
   "metadata": {},
   "source": [
    "## Data Wrangling"
   ]
  },
  {
   "cell_type": "markdown",
   "metadata": {},
   "source": [
    "### Convert columns with binary-like data into boolean data\n",
    "\n",
    "Some of the columns only contain two string values (e.g. \"V\" and \"N\" in the \"rating\" column).  We can convert these to either a boolean or numeric data to make the column better suited for calculations downstream."
   ]
  },
  {
   "cell_type": "code",
   "execution_count": 136,
   "metadata": {},
   "outputs": [
    {
     "name": "stdout",
     "output_type": "stream",
     "text": [
      "V    237249\n",
      "N      1610\n",
      "Name: rating, dtype: int64 \n",
      "\n",
      "T    165810\n",
      "F     67575\n",
      "Name: low, dtype: int64 \n",
      "\n",
      "F    142983\n",
      "T     43689\n",
      "Name: medium, dtype: int64 \n",
      "\n",
      "F    160543\n",
      "T     26129\n",
      "Name: high, dtype: int64\n"
     ]
    }
   ],
   "source": [
    "# Inspect columns with binary-like data\n",
    "print(df['rating'].value_counts(), '\\n')\n",
    "print(df['low'].value_counts(), '\\n')\n",
    "print(df['medium'].value_counts(), '\\n')\n",
    "print(df['high'].value_counts())"
   ]
  },
  {
   "cell_type": "code",
   "execution_count": 137,
   "metadata": {},
   "outputs": [
    {
     "data": {
      "text/plain": [
       "1    237249\n",
       "0      1610\n",
       "Name: rating, dtype: int64"
      ]
     },
     "execution_count": 137,
     "metadata": {},
     "output_type": "execute_result"
    }
   ],
   "source": [
    "# Map rating column to numeric data\n",
    "mapping = {'N': 0, 'V': 1}\n",
    "df['rating'] = df['rating'].map(mapping)\n",
    "\n",
    "# Inspect results\n",
    "df['rating'].value_counts()"
   ]
  },
  {
   "cell_type": "code",
   "execution_count": 138,
   "metadata": {},
   "outputs": [],
   "source": [
    "# Map risk violation level to numeric data\n",
    "mapping = {'T': int(1), 'F': int(0)}\n",
    "\n",
    "df['low'] = df['low'].map(mapping)\n",
    "df['medium'] = df['medium'].map(mapping)\n",
    "df['high'] = df['high'].map(mapping)"
   ]
  },
  {
   "cell_type": "code",
   "execution_count": 139,
   "metadata": {},
   "outputs": [
    {
     "name": "stdout",
     "output_type": "stream",
     "text": [
      "1.0    165810\n",
      "0.0     67575\n",
      "Name: low, dtype: int64 \n",
      "\n",
      "0.0    142983\n",
      "1.0     43689\n",
      "Name: medium, dtype: int64 \n",
      "\n",
      "0.0    160543\n",
      "1.0     26129\n",
      "Name: high, dtype: int64\n"
     ]
    }
   ],
   "source": [
    "# Verify results\n",
    "print(df['low'].value_counts(), '\\n')\n",
    "print(df['medium'].value_counts(), '\\n')\n",
    "print(df['high'].value_counts())"
   ]
  },
  {
   "cell_type": "markdown",
   "metadata": {},
   "source": [
    "### Rename Columns\n",
    "\n",
    "The column names aren't intuitively named.  Let's rename these so they are more easily understood what they are."
   ]
  },
  {
   "cell_type": "code",
   "execution_count": 140,
   "metadata": {},
   "outputs": [
    {
     "data": {
      "text/plain": [
       "Index(['inspection_id', 'restaurant_id', 'placard_st', 'facility_name',\n",
       "       'start_date', 'facility_type', 'violation', 'street_num', 'street',\n",
       "       'city', 'state', 'zip', 'inspect_dt', 'start_time', 'end_time',\n",
       "       'municipal', 'is_violation', 'violation_level_low',\n",
       "       'violation_level_med', 'violation_level_high', 'url'],\n",
       "      dtype='object')"
      ]
     },
     "execution_count": 140,
     "metadata": {},
     "output_type": "execute_result"
    }
   ],
   "source": [
    "# Rename columns that are unclear\n",
    "\n",
    "col = {\n",
    "    \"encounter\": \"inspection_id\",\n",
    "    \"id\": \"restaurant_id\",\n",
    "    \"bus_st_date\": \"start_date\",\n",
    "    \"description\": \"facility_type\",\n",
    "    \"description_new\": \"violation\",\n",
    "    \"num\": \"street_num\",\n",
    "    \"rating\": \"is_violation\",\n",
    "    \"low\": \"violation_level_low\",\n",
    "    \"medium\": \"violation_level_med\",\n",
    "    \"high\": \"violation_level_high\"\n",
    "}\n",
    "\n",
    "df = df.rename(columns=col)\n",
    "\n",
    "# Verify changes\n",
    "df.columns"
   ]
  },
  {
   "cell_type": "markdown",
   "metadata": {},
   "source": [
    "## Question 1: Investigate most common health violations"
   ]
  },
  {
   "cell_type": "markdown",
   "metadata": {},
   "source": [
    "### Top Ten Common Health Violations"
   ]
  },
  {
   "cell_type": "code",
   "execution_count": 141,
   "metadata": {},
   "outputs": [
    {
     "data": {
      "text/plain": [
       "Cleaning and Sanitization                                  24517\n",
       "Fabrication, Design, Installation and Maintenance          20184\n",
       "Cold Holding Temperatures                                  14234\n",
       "Contamination Prevention - Food, Utensils and Equipment    13809\n",
       "Floors                                                     12775\n",
       "Handwashing Facilities                                     12603\n",
       "Facilities to Maintain Temperature                         12573\n",
       "Walls and ceilings                                         12566\n",
       "Certified Food Protection Manager                          11652\n",
       "Pest Management                                             9601\n",
       "Name: violation, dtype: int64"
      ]
     },
     "execution_count": 141,
     "metadata": {},
     "output_type": "execute_result"
    }
   ],
   "source": [
    "# Find the top ten common health violations\n",
    "df['violation'].value_counts().head(10)"
   ]
  },
  {
   "cell_type": "markdown",
   "metadata": {},
   "source": [
    "## Question 2: Rank Facilities by the Amount of Health Violations\n",
    "\n",
    "Investigate which facilities have the highest number of health violations, and group facilities by municipality as well as health violation level."
   ]
  },
  {
   "cell_type": "code",
   "execution_count": 142,
   "metadata": {},
   "outputs": [],
   "source": [
    "cols = ['facility_name', 'is_violation', 'violation_level_low',\n",
    "       'violation_level_med', 'violation_level_high', 'municipal']\n",
    "df_viol_rank = df[cols].groupby(['facility_name', 'municipal']) \\\n",
    "                       .sum() \\\n",
    "                       .sort_values(by='is_violation', ascending=False)"
   ]
  },
  {
   "cell_type": "code",
   "execution_count": 143,
   "metadata": {},
   "outputs": [
    {
     "data": {
      "text/html": [
       "<div>\n",
       "<style scoped>\n",
       "    .dataframe tbody tr th:only-of-type {\n",
       "        vertical-align: middle;\n",
       "    }\n",
       "\n",
       "    .dataframe tbody tr th {\n",
       "        vertical-align: top;\n",
       "    }\n",
       "\n",
       "    .dataframe thead th {\n",
       "        text-align: right;\n",
       "    }\n",
       "</style>\n",
       "<table border=\"1\" class=\"dataframe\">\n",
       "  <thead>\n",
       "    <tr style=\"text-align: right;\">\n",
       "      <th></th>\n",
       "      <th></th>\n",
       "      <th>is_violation</th>\n",
       "      <th>violation_level_low</th>\n",
       "      <th>violation_level_med</th>\n",
       "      <th>violation_level_high</th>\n",
       "    </tr>\n",
       "    <tr>\n",
       "      <th>facility_name</th>\n",
       "      <th>municipal</th>\n",
       "      <th></th>\n",
       "      <th></th>\n",
       "      <th></th>\n",
       "      <th></th>\n",
       "    </tr>\n",
       "  </thead>\n",
       "  <tbody>\n",
       "    <tr>\n",
       "      <th>Las Palmas #2</th>\n",
       "      <th>Pittsburgh-104</th>\n",
       "      <td>256</td>\n",
       "      <td>137.0</td>\n",
       "      <td>81.0</td>\n",
       "      <td>54.0</td>\n",
       "    </tr>\n",
       "    <tr>\n",
       "      <th>Sun Penang</th>\n",
       "      <th>Pittsburgh-114</th>\n",
       "      <td>240</td>\n",
       "      <td>183.0</td>\n",
       "      <td>43.0</td>\n",
       "      <td>21.0</td>\n",
       "    </tr>\n",
       "    <tr>\n",
       "      <th>Ichiban II</th>\n",
       "      <th>Robinson</th>\n",
       "      <td>236</td>\n",
       "      <td>178.0</td>\n",
       "      <td>32.0</td>\n",
       "      <td>35.0</td>\n",
       "    </tr>\n",
       "    <tr>\n",
       "      <th>Giovanni's Pizza &amp; Pasta</th>\n",
       "      <th>Pittsburgh-102</th>\n",
       "      <td>221</td>\n",
       "      <td>155.0</td>\n",
       "      <td>32.0</td>\n",
       "      <td>37.0</td>\n",
       "    </tr>\n",
       "    <tr>\n",
       "      <th>Tan Lac Vien</th>\n",
       "      <th>Pittsburgh-114</th>\n",
       "      <td>218</td>\n",
       "      <td>124.0</td>\n",
       "      <td>70.0</td>\n",
       "      <td>31.0</td>\n",
       "    </tr>\n",
       "    <tr>\n",
       "      <th>Rose Tea Cafe</th>\n",
       "      <th>Pittsburgh-114</th>\n",
       "      <td>218</td>\n",
       "      <td>134.0</td>\n",
       "      <td>49.0</td>\n",
       "      <td>38.0</td>\n",
       "    </tr>\n",
       "    <tr>\n",
       "      <th>Pittsburgh Athletic Assoc Restaurant</th>\n",
       "      <th>Pittsburgh-104</th>\n",
       "      <td>213</td>\n",
       "      <td>136.0</td>\n",
       "      <td>57.0</td>\n",
       "      <td>30.0</td>\n",
       "    </tr>\n",
       "    <tr>\n",
       "      <th>Plaza Azteca</th>\n",
       "      <th>Robinson</th>\n",
       "      <td>209</td>\n",
       "      <td>138.0</td>\n",
       "      <td>28.0</td>\n",
       "      <td>45.0</td>\n",
       "    </tr>\n",
       "    <tr>\n",
       "      <th>The Bagel Factory</th>\n",
       "      <th>Pittsburgh-104</th>\n",
       "      <td>208</td>\n",
       "      <td>133.0</td>\n",
       "      <td>41.0</td>\n",
       "      <td>39.0</td>\n",
       "    </tr>\n",
       "    <tr>\n",
       "      <th>Cupka's Cafe II</th>\n",
       "      <th>Pittsburgh-116</th>\n",
       "      <td>206</td>\n",
       "      <td>136.0</td>\n",
       "      <td>48.0</td>\n",
       "      <td>32.0</td>\n",
       "    </tr>\n",
       "    <tr>\n",
       "      <th>Sichuan Gourmet</th>\n",
       "      <th>Pittsburgh-104</th>\n",
       "      <td>202</td>\n",
       "      <td>160.0</td>\n",
       "      <td>42.0</td>\n",
       "      <td>34.0</td>\n",
       "    </tr>\n",
       "    <tr>\n",
       "      <th>Starlite Lounge</th>\n",
       "      <th>Blawnox</th>\n",
       "      <td>198</td>\n",
       "      <td>148.0</td>\n",
       "      <td>38.0</td>\n",
       "      <td>21.0</td>\n",
       "    </tr>\n",
       "    <tr>\n",
       "      <th>Miller's Seafood House</th>\n",
       "      <th>Pittsburgh-127</th>\n",
       "      <td>195</td>\n",
       "      <td>132.0</td>\n",
       "      <td>49.0</td>\n",
       "      <td>29.0</td>\n",
       "    </tr>\n",
       "    <tr>\n",
       "      <th>Sichuan Gourmet</th>\n",
       "      <th>Pittsburgh-114</th>\n",
       "      <td>189</td>\n",
       "      <td>122.0</td>\n",
       "      <td>52.0</td>\n",
       "      <td>32.0</td>\n",
       "    </tr>\n",
       "    <tr>\n",
       "      <th>Little Asia</th>\n",
       "      <th>Pittsburgh-104</th>\n",
       "      <td>187</td>\n",
       "      <td>132.0</td>\n",
       "      <td>40.0</td>\n",
       "      <td>36.0</td>\n",
       "    </tr>\n",
       "    <tr>\n",
       "      <th>Wood &amp; Penn Restaurant &amp; Tobacco</th>\n",
       "      <th>Wilkinsburg</th>\n",
       "      <td>186</td>\n",
       "      <td>123.0</td>\n",
       "      <td>49.0</td>\n",
       "      <td>28.0</td>\n",
       "    </tr>\n",
       "    <tr>\n",
       "      <th>Ramen Bar</th>\n",
       "      <th>Pittsburgh-114</th>\n",
       "      <td>185</td>\n",
       "      <td>97.0</td>\n",
       "      <td>53.0</td>\n",
       "      <td>40.0</td>\n",
       "    </tr>\n",
       "    <tr>\n",
       "      <th>Tom's Diner / Vasta Inn</th>\n",
       "      <th>Dormont</th>\n",
       "      <td>183</td>\n",
       "      <td>131.0</td>\n",
       "      <td>34.0</td>\n",
       "      <td>21.0</td>\n",
       "    </tr>\n",
       "    <tr>\n",
       "      <th>Thai Hana &amp; Sushi Bar</th>\n",
       "      <th>Pittsburgh-104</th>\n",
       "      <td>180</td>\n",
       "      <td>129.0</td>\n",
       "      <td>36.0</td>\n",
       "      <td>36.0</td>\n",
       "    </tr>\n",
       "    <tr>\n",
       "      <th>Isaly's</th>\n",
       "      <th>Pittsburgh-123</th>\n",
       "      <td>179</td>\n",
       "      <td>118.0</td>\n",
       "      <td>45.0</td>\n",
       "      <td>14.0</td>\n",
       "    </tr>\n",
       "  </tbody>\n",
       "</table>\n",
       "</div>"
      ],
      "text/plain": [
       "                                                     is_violation  \\\n",
       "facility_name                        municipal                      \n",
       "Las Palmas #2                        Pittsburgh-104           256   \n",
       "Sun Penang                           Pittsburgh-114           240   \n",
       "Ichiban II                           Robinson                 236   \n",
       "Giovanni's Pizza & Pasta             Pittsburgh-102           221   \n",
       "Tan Lac Vien                         Pittsburgh-114           218   \n",
       "Rose Tea Cafe                        Pittsburgh-114           218   \n",
       "Pittsburgh Athletic Assoc Restaurant Pittsburgh-104           213   \n",
       "Plaza Azteca                         Robinson                 209   \n",
       "The Bagel Factory                    Pittsburgh-104           208   \n",
       "Cupka's Cafe II                      Pittsburgh-116           206   \n",
       "Sichuan Gourmet                      Pittsburgh-104           202   \n",
       "Starlite Lounge                      Blawnox                  198   \n",
       "Miller's Seafood House               Pittsburgh-127           195   \n",
       "Sichuan Gourmet                      Pittsburgh-114           189   \n",
       "Little Asia                          Pittsburgh-104           187   \n",
       "Wood & Penn Restaurant & Tobacco     Wilkinsburg              186   \n",
       "Ramen Bar                            Pittsburgh-114           185   \n",
       "Tom's Diner / Vasta Inn              Dormont                  183   \n",
       "Thai Hana & Sushi Bar                Pittsburgh-104           180   \n",
       "Isaly's                              Pittsburgh-123           179   \n",
       "\n",
       "                                                     violation_level_low  \\\n",
       "facility_name                        municipal                             \n",
       "Las Palmas #2                        Pittsburgh-104                137.0   \n",
       "Sun Penang                           Pittsburgh-114                183.0   \n",
       "Ichiban II                           Robinson                      178.0   \n",
       "Giovanni's Pizza & Pasta             Pittsburgh-102                155.0   \n",
       "Tan Lac Vien                         Pittsburgh-114                124.0   \n",
       "Rose Tea Cafe                        Pittsburgh-114                134.0   \n",
       "Pittsburgh Athletic Assoc Restaurant Pittsburgh-104                136.0   \n",
       "Plaza Azteca                         Robinson                      138.0   \n",
       "The Bagel Factory                    Pittsburgh-104                133.0   \n",
       "Cupka's Cafe II                      Pittsburgh-116                136.0   \n",
       "Sichuan Gourmet                      Pittsburgh-104                160.0   \n",
       "Starlite Lounge                      Blawnox                       148.0   \n",
       "Miller's Seafood House               Pittsburgh-127                132.0   \n",
       "Sichuan Gourmet                      Pittsburgh-114                122.0   \n",
       "Little Asia                          Pittsburgh-104                132.0   \n",
       "Wood & Penn Restaurant & Tobacco     Wilkinsburg                   123.0   \n",
       "Ramen Bar                            Pittsburgh-114                 97.0   \n",
       "Tom's Diner / Vasta Inn              Dormont                       131.0   \n",
       "Thai Hana & Sushi Bar                Pittsburgh-104                129.0   \n",
       "Isaly's                              Pittsburgh-123                118.0   \n",
       "\n",
       "                                                     violation_level_med  \\\n",
       "facility_name                        municipal                             \n",
       "Las Palmas #2                        Pittsburgh-104                 81.0   \n",
       "Sun Penang                           Pittsburgh-114                 43.0   \n",
       "Ichiban II                           Robinson                       32.0   \n",
       "Giovanni's Pizza & Pasta             Pittsburgh-102                 32.0   \n",
       "Tan Lac Vien                         Pittsburgh-114                 70.0   \n",
       "Rose Tea Cafe                        Pittsburgh-114                 49.0   \n",
       "Pittsburgh Athletic Assoc Restaurant Pittsburgh-104                 57.0   \n",
       "Plaza Azteca                         Robinson                       28.0   \n",
       "The Bagel Factory                    Pittsburgh-104                 41.0   \n",
       "Cupka's Cafe II                      Pittsburgh-116                 48.0   \n",
       "Sichuan Gourmet                      Pittsburgh-104                 42.0   \n",
       "Starlite Lounge                      Blawnox                        38.0   \n",
       "Miller's Seafood House               Pittsburgh-127                 49.0   \n",
       "Sichuan Gourmet                      Pittsburgh-114                 52.0   \n",
       "Little Asia                          Pittsburgh-104                 40.0   \n",
       "Wood & Penn Restaurant & Tobacco     Wilkinsburg                    49.0   \n",
       "Ramen Bar                            Pittsburgh-114                 53.0   \n",
       "Tom's Diner / Vasta Inn              Dormont                        34.0   \n",
       "Thai Hana & Sushi Bar                Pittsburgh-104                 36.0   \n",
       "Isaly's                              Pittsburgh-123                 45.0   \n",
       "\n",
       "                                                     violation_level_high  \n",
       "facility_name                        municipal                             \n",
       "Las Palmas #2                        Pittsburgh-104                  54.0  \n",
       "Sun Penang                           Pittsburgh-114                  21.0  \n",
       "Ichiban II                           Robinson                        35.0  \n",
       "Giovanni's Pizza & Pasta             Pittsburgh-102                  37.0  \n",
       "Tan Lac Vien                         Pittsburgh-114                  31.0  \n",
       "Rose Tea Cafe                        Pittsburgh-114                  38.0  \n",
       "Pittsburgh Athletic Assoc Restaurant Pittsburgh-104                  30.0  \n",
       "Plaza Azteca                         Robinson                        45.0  \n",
       "The Bagel Factory                    Pittsburgh-104                  39.0  \n",
       "Cupka's Cafe II                      Pittsburgh-116                  32.0  \n",
       "Sichuan Gourmet                      Pittsburgh-104                  34.0  \n",
       "Starlite Lounge                      Blawnox                         21.0  \n",
       "Miller's Seafood House               Pittsburgh-127                  29.0  \n",
       "Sichuan Gourmet                      Pittsburgh-114                  32.0  \n",
       "Little Asia                          Pittsburgh-104                  36.0  \n",
       "Wood & Penn Restaurant & Tobacco     Wilkinsburg                     28.0  \n",
       "Ramen Bar                            Pittsburgh-114                  40.0  \n",
       "Tom's Diner / Vasta Inn              Dormont                         21.0  \n",
       "Thai Hana & Sushi Bar                Pittsburgh-104                  36.0  \n",
       "Isaly's                              Pittsburgh-123                  14.0  "
      ]
     },
     "execution_count": 143,
     "metadata": {},
     "output_type": "execute_result"
    }
   ],
   "source": [
    "df_viol_rank.head(20)"
   ]
  },
  {
   "cell_type": "markdown",
   "metadata": {},
   "source": [
    "## Question 3: Which type of violations occur the most for each severity level?"
   ]
  },
  {
   "cell_type": "code",
   "execution_count": 144,
   "metadata": {},
   "outputs": [],
   "source": [
    "cols = ['violation', 'violation_level_low',\n",
    "       'violation_level_med', 'violation_level_high']\n",
    "df_violations_by_severity = df[cols].groupby(['violation']) \\\n",
    "                                    .sum()"
   ]
  },
  {
   "cell_type": "markdown",
   "metadata": {},
   "source": [
    "#### Most common violations considered \"low severity\""
   ]
  },
  {
   "cell_type": "code",
   "execution_count": 145,
   "metadata": {},
   "outputs": [
    {
     "data": {
      "text/plain": [
       "violation\n",
       "Cleaning and Sanitization                                  20258.0\n",
       "Fabrication, Design, Installation and Maintenance          20158.0\n",
       "Contamination Prevention - Food, Utensils and Equipment    13727.0\n",
       "Floors                                                     12772.0\n",
       "Walls and ceilings                                         12564.0\n",
       "Handwashing Facilities                                      8451.0\n",
       "Facilities to Maintain Temperature                          7938.0\n",
       "Pest Management                                             7432.0\n",
       "Garbage and Refuse                                          7324.0\n",
       "Date Marking of Food                                        7194.0\n",
       "Name: violation_level_low, dtype: float64"
      ]
     },
     "execution_count": 145,
     "metadata": {},
     "output_type": "execute_result"
    }
   ],
   "source": [
    "df_violations_by_severity['violation_level_low'].sort_values(ascending=False).head(10)"
   ]
  },
  {
   "cell_type": "markdown",
   "metadata": {},
   "source": [
    "#### Most common violations considered \"medium severity\""
   ]
  },
  {
   "cell_type": "code",
   "execution_count": 146,
   "metadata": {},
   "outputs": [
    {
     "data": {
      "text/plain": [
       "violation\n",
       "Certified Food Protection Manager     8956.0\n",
       "Toxic Items                           5392.0\n",
       "Handwashing Facilities                4239.0\n",
       "Facilities to Maintain Temperature    3498.0\n",
       "Probe-Type Thermometers               3471.0\n",
       "Cold Holding Temperatures             2852.0\n",
       "Cleaning and Sanitization             2371.0\n",
       "Cooling Food                          2141.0\n",
       "Date Marking of Food                  1979.0\n",
       "Cross-Contamination Prevention        1588.0\n",
       "Name: violation_level_med, dtype: float64"
      ]
     },
     "execution_count": 146,
     "metadata": {},
     "output_type": "execute_result"
    }
   ],
   "source": [
    "df_violations_by_severity['violation_level_med'].sort_values(ascending=False).head(10)"
   ]
  },
  {
   "cell_type": "markdown",
   "metadata": {},
   "source": [
    "#### Most common violations considered \"high severity\""
   ]
  },
  {
   "cell_type": "code",
   "execution_count": 147,
   "metadata": {},
   "outputs": [
    {
     "data": {
      "text/plain": [
       "violation\n",
       "Cold Holding Temperatures         10418.0\n",
       "Cleaning and Sanitization          5475.0\n",
       "Hot Holding Temperatures           2993.0\n",
       "Employee Personal Hygiene          1822.0\n",
       "Food Source/Condition              1404.0\n",
       "Pest Management                    1271.0\n",
       "Cross-Contamination Prevention     1222.0\n",
       "Cooling Food                       1217.0\n",
       "Reheating Temperatures              252.0\n",
       "Cooking Temperatures                 32.0\n",
       "Name: violation_level_high, dtype: float64"
      ]
     },
     "execution_count": 147,
     "metadata": {},
     "output_type": "execute_result"
    }
   ],
   "source": [
    "df_violations_by_severity['violation_level_high'].sort_values(ascending=False).head(10)"
   ]
  },
  {
   "cell_type": "markdown",
   "metadata": {},
   "source": [
    "## Question 4: Which classification of restaurant has the most \"high\" severity violations? Does this vary by the municipalities of your choosing?"
   ]
  },
  {
   "cell_type": "code",
   "execution_count": 149,
   "metadata": {},
   "outputs": [],
   "source": [
    "# Get sum of high level violations by facility and municipality\n",
    "cols = ['facility_type', 'municipal', 'violation_level_high']\n",
    "df_viol_by_facility_type = df[cols].groupby(['municipal', 'facility_type']) \\\n",
    "                                   .sum()"
   ]
  },
  {
   "cell_type": "code",
   "execution_count": 150,
   "metadata": {},
   "outputs": [
    {
     "data": {
      "text/html": [
       "<div>\n",
       "<style scoped>\n",
       "    .dataframe tbody tr th:only-of-type {\n",
       "        vertical-align: middle;\n",
       "    }\n",
       "\n",
       "    .dataframe tbody tr th {\n",
       "        vertical-align: top;\n",
       "    }\n",
       "\n",
       "    .dataframe thead th {\n",
       "        text-align: right;\n",
       "    }\n",
       "</style>\n",
       "<table border=\"1\" class=\"dataframe\">\n",
       "  <thead>\n",
       "    <tr style=\"text-align: right;\">\n",
       "      <th></th>\n",
       "      <th></th>\n",
       "      <th>violation_level_high</th>\n",
       "    </tr>\n",
       "    <tr>\n",
       "      <th>municipal</th>\n",
       "      <th>facility_type</th>\n",
       "      <th></th>\n",
       "    </tr>\n",
       "  </thead>\n",
       "  <tbody>\n",
       "    <tr>\n",
       "      <th rowspan=\"4\" valign=\"top\">Aleppo</th>\n",
       "      <th>Adult Food Service</th>\n",
       "      <td>6.0</td>\n",
       "    </tr>\n",
       "    <tr>\n",
       "      <th>Child Food Service</th>\n",
       "      <td>1.0</td>\n",
       "    </tr>\n",
       "    <tr>\n",
       "      <th>Nursing Home/Personal Care Comb.</th>\n",
       "      <td>1.0</td>\n",
       "    </tr>\n",
       "    <tr>\n",
       "      <th>Nursing Home/Personal Care Snack Bar</th>\n",
       "      <td>0.0</td>\n",
       "    </tr>\n",
       "    <tr>\n",
       "      <th>Aspinwall</th>\n",
       "      <th>Bakery</th>\n",
       "      <td>3.0</td>\n",
       "    </tr>\n",
       "  </tbody>\n",
       "</table>\n",
       "</div>"
      ],
      "text/plain": [
       "                                                violation_level_high\n",
       "municipal facility_type                                             \n",
       "Aleppo    Adult Food Service                                     6.0\n",
       "          Child Food Service                                     1.0\n",
       "          Nursing Home/Personal Care Comb.                       1.0\n",
       "          Nursing Home/Personal Care Snack Bar                   0.0\n",
       "Aspinwall Bakery                                                 3.0"
      ]
     },
     "execution_count": 150,
     "metadata": {},
     "output_type": "execute_result"
    }
   ],
   "source": [
    "# Inspect the grouped dataframe\n",
    "df_viol_by_facility_type.head()"
   ]
  },
  {
   "cell_type": "code",
   "execution_count": 151,
   "metadata": {},
   "outputs": [],
   "source": [
    "# Get sorted list of highest count of high level violations by facility type and municipality\n",
    "df_viol_by_municipal = df_viol_by_facility_type.groupby(level=0, group_keys=False) \\\n",
    "                           .apply(lambda x: x.sort_values(by='violation_level_high', ascending=False))"
   ]
  },
  {
   "cell_type": "code",
   "execution_count": 152,
   "metadata": {},
   "outputs": [
    {
     "data": {
      "text/html": [
       "<div>\n",
       "<style scoped>\n",
       "    .dataframe tbody tr th:only-of-type {\n",
       "        vertical-align: middle;\n",
       "    }\n",
       "\n",
       "    .dataframe tbody tr th {\n",
       "        vertical-align: top;\n",
       "    }\n",
       "\n",
       "    .dataframe thead th {\n",
       "        text-align: right;\n",
       "    }\n",
       "</style>\n",
       "<table border=\"1\" class=\"dataframe\">\n",
       "  <thead>\n",
       "    <tr style=\"text-align: right;\">\n",
       "      <th></th>\n",
       "      <th></th>\n",
       "      <th>violation_level_high</th>\n",
       "    </tr>\n",
       "    <tr>\n",
       "      <th>municipal</th>\n",
       "      <th>facility_type</th>\n",
       "      <th></th>\n",
       "    </tr>\n",
       "  </thead>\n",
       "  <tbody>\n",
       "    <tr>\n",
       "      <th rowspan=\"4\" valign=\"top\">Aleppo</th>\n",
       "      <th>Adult Food Service</th>\n",
       "      <td>6.0</td>\n",
       "    </tr>\n",
       "    <tr>\n",
       "      <th>Child Food Service</th>\n",
       "      <td>1.0</td>\n",
       "    </tr>\n",
       "    <tr>\n",
       "      <th>Nursing Home/Personal Care Comb.</th>\n",
       "      <td>1.0</td>\n",
       "    </tr>\n",
       "    <tr>\n",
       "      <th>Nursing Home/Personal Care Snack Bar</th>\n",
       "      <td>0.0</td>\n",
       "    </tr>\n",
       "    <tr>\n",
       "      <th>Aspinwall</th>\n",
       "      <th>Restaurant with Liquor</th>\n",
       "      <td>65.0</td>\n",
       "    </tr>\n",
       "  </tbody>\n",
       "</table>\n",
       "</div>"
      ],
      "text/plain": [
       "                                                violation_level_high\n",
       "municipal facility_type                                             \n",
       "Aleppo    Adult Food Service                                     6.0\n",
       "          Child Food Service                                     1.0\n",
       "          Nursing Home/Personal Care Comb.                       1.0\n",
       "          Nursing Home/Personal Care Snack Bar                   0.0\n",
       "Aspinwall Restaurant with Liquor                                65.0"
      ]
     },
     "execution_count": 152,
     "metadata": {},
     "output_type": "execute_result"
    }
   ],
   "source": [
    "# Inspect the grouped dataframe\n",
    "df_viol_by_municipal.head()"
   ]
  },
  {
   "cell_type": "code",
   "execution_count": 153,
   "metadata": {},
   "outputs": [],
   "source": [
    "# Reset index so we can work with the data more\n",
    "df_viol_by_municipal = df_viol_by_municipal.reset_index()"
   ]
  },
  {
   "cell_type": "markdown",
   "metadata": {},
   "source": [
    "#### Get the top 5 facility_types with the largest number of high level violations"
   ]
  },
  {
   "cell_type": "markdown",
   "metadata": {},
   "source": [
    "#### Robinson"
   ]
  },
  {
   "cell_type": "code",
   "execution_count": 154,
   "metadata": {},
   "outputs": [
    {
     "data": {
      "text/html": [
       "<div>\n",
       "<style scoped>\n",
       "    .dataframe tbody tr th:only-of-type {\n",
       "        vertical-align: middle;\n",
       "    }\n",
       "\n",
       "    .dataframe tbody tr th {\n",
       "        vertical-align: top;\n",
       "    }\n",
       "\n",
       "    .dataframe thead th {\n",
       "        text-align: right;\n",
       "    }\n",
       "</style>\n",
       "<table border=\"1\" class=\"dataframe\">\n",
       "  <thead>\n",
       "    <tr style=\"text-align: right;\">\n",
       "      <th></th>\n",
       "      <th>municipal</th>\n",
       "      <th>facility_type</th>\n",
       "      <th>violation_level_high</th>\n",
       "    </tr>\n",
       "  </thead>\n",
       "  <tbody>\n",
       "    <tr>\n",
       "      <th>1950</th>\n",
       "      <td>Robinson</td>\n",
       "      <td>Chain Restaurant with Liquor</td>\n",
       "      <td>349.0</td>\n",
       "    </tr>\n",
       "    <tr>\n",
       "      <th>1951</th>\n",
       "      <td>Robinson</td>\n",
       "      <td>Chain Restaurant without Liquor</td>\n",
       "      <td>233.0</td>\n",
       "    </tr>\n",
       "    <tr>\n",
       "      <th>1952</th>\n",
       "      <td>Robinson</td>\n",
       "      <td>Restaurant with Liquor</td>\n",
       "      <td>155.0</td>\n",
       "    </tr>\n",
       "    <tr>\n",
       "      <th>1953</th>\n",
       "      <td>Robinson</td>\n",
       "      <td>Restaurant without Liquor</td>\n",
       "      <td>108.0</td>\n",
       "    </tr>\n",
       "    <tr>\n",
       "      <th>1954</th>\n",
       "      <td>Robinson</td>\n",
       "      <td>Chain Retail/Convenience Store</td>\n",
       "      <td>14.0</td>\n",
       "    </tr>\n",
       "  </tbody>\n",
       "</table>\n",
       "</div>"
      ],
      "text/plain": [
       "     municipal                    facility_type  violation_level_high\n",
       "1950  Robinson     Chain Restaurant with Liquor                 349.0\n",
       "1951  Robinson  Chain Restaurant without Liquor                 233.0\n",
       "1952  Robinson           Restaurant with Liquor                 155.0\n",
       "1953  Robinson        Restaurant without Liquor                 108.0\n",
       "1954  Robinson   Chain Retail/Convenience Store                  14.0"
      ]
     },
     "execution_count": 154,
     "metadata": {},
     "output_type": "execute_result"
    }
   ],
   "source": [
    "df_viol_by_municipal.loc[df_viol_by_municipal['municipal'] == 'Robinson'].head()"
   ]
  },
  {
   "cell_type": "markdown",
   "metadata": {},
   "source": [
    "#### Pittsburgh-114"
   ]
  },
  {
   "cell_type": "code",
   "execution_count": 155,
   "metadata": {},
   "outputs": [
    {
     "data": {
      "text/html": [
       "<div>\n",
       "<style scoped>\n",
       "    .dataframe tbody tr th:only-of-type {\n",
       "        vertical-align: middle;\n",
       "    }\n",
       "\n",
       "    .dataframe tbody tr th {\n",
       "        vertical-align: top;\n",
       "    }\n",
       "\n",
       "    .dataframe thead th {\n",
       "        text-align: right;\n",
       "    }\n",
       "</style>\n",
       "<table border=\"1\" class=\"dataframe\">\n",
       "  <thead>\n",
       "    <tr style=\"text-align: right;\">\n",
       "      <th></th>\n",
       "      <th>municipal</th>\n",
       "      <th>facility_type</th>\n",
       "      <th>violation_level_high</th>\n",
       "    </tr>\n",
       "  </thead>\n",
       "  <tbody>\n",
       "    <tr>\n",
       "      <th>1504</th>\n",
       "      <td>Pittsburgh-114</td>\n",
       "      <td>Restaurant without Liquor</td>\n",
       "      <td>290.0</td>\n",
       "    </tr>\n",
       "    <tr>\n",
       "      <th>1505</th>\n",
       "      <td>Pittsburgh-114</td>\n",
       "      <td>Restaurant with Liquor</td>\n",
       "      <td>194.0</td>\n",
       "    </tr>\n",
       "    <tr>\n",
       "      <th>1506</th>\n",
       "      <td>Pittsburgh-114</td>\n",
       "      <td>Chain Restaurant without Liquor</td>\n",
       "      <td>168.0</td>\n",
       "    </tr>\n",
       "    <tr>\n",
       "      <th>1507</th>\n",
       "      <td>Pittsburgh-114</td>\n",
       "      <td>University Food Service</td>\n",
       "      <td>67.0</td>\n",
       "    </tr>\n",
       "    <tr>\n",
       "      <th>1508</th>\n",
       "      <td>Pittsburgh-114</td>\n",
       "      <td>Hospital, Gov, University (limited)</td>\n",
       "      <td>41.0</td>\n",
       "    </tr>\n",
       "  </tbody>\n",
       "</table>\n",
       "</div>"
      ],
      "text/plain": [
       "           municipal                        facility_type  \\\n",
       "1504  Pittsburgh-114            Restaurant without Liquor   \n",
       "1505  Pittsburgh-114               Restaurant with Liquor   \n",
       "1506  Pittsburgh-114      Chain Restaurant without Liquor   \n",
       "1507  Pittsburgh-114              University Food Service   \n",
       "1508  Pittsburgh-114  Hospital, Gov, University (limited)   \n",
       "\n",
       "      violation_level_high  \n",
       "1504                 290.0  \n",
       "1505                 194.0  \n",
       "1506                 168.0  \n",
       "1507                  67.0  \n",
       "1508                  41.0  "
      ]
     },
     "execution_count": 155,
     "metadata": {},
     "output_type": "execute_result"
    }
   ],
   "source": [
    "df_viol_by_municipal.loc[df_viol_by_municipal['municipal'] == 'Pittsburgh-114'].head()"
   ]
  },
  {
   "cell_type": "markdown",
   "metadata": {},
   "source": [
    "#### Dormont"
   ]
  },
  {
   "cell_type": "code",
   "execution_count": 156,
   "metadata": {},
   "outputs": [
    {
     "data": {
      "text/html": [
       "<div>\n",
       "<style scoped>\n",
       "    .dataframe tbody tr th:only-of-type {\n",
       "        vertical-align: middle;\n",
       "    }\n",
       "\n",
       "    .dataframe tbody tr th {\n",
       "        vertical-align: top;\n",
       "    }\n",
       "\n",
       "    .dataframe thead th {\n",
       "        text-align: right;\n",
       "    }\n",
       "</style>\n",
       "<table border=\"1\" class=\"dataframe\">\n",
       "  <thead>\n",
       "    <tr style=\"text-align: right;\">\n",
       "      <th></th>\n",
       "      <th>municipal</th>\n",
       "      <th>facility_type</th>\n",
       "      <th>violation_level_high</th>\n",
       "    </tr>\n",
       "  </thead>\n",
       "  <tbody>\n",
       "    <tr>\n",
       "      <th>327</th>\n",
       "      <td>Dormont</td>\n",
       "      <td>Restaurant with Liquor</td>\n",
       "      <td>65.0</td>\n",
       "    </tr>\n",
       "    <tr>\n",
       "      <th>328</th>\n",
       "      <td>Dormont</td>\n",
       "      <td>Restaurant without Liquor</td>\n",
       "      <td>37.0</td>\n",
       "    </tr>\n",
       "    <tr>\n",
       "      <th>329</th>\n",
       "      <td>Dormont</td>\n",
       "      <td>Chain Restaurant without Liquor</td>\n",
       "      <td>24.0</td>\n",
       "    </tr>\n",
       "    <tr>\n",
       "      <th>330</th>\n",
       "      <td>Dormont</td>\n",
       "      <td>Chain Restaurant with Liquor</td>\n",
       "      <td>9.0</td>\n",
       "    </tr>\n",
       "    <tr>\n",
       "      <th>331</th>\n",
       "      <td>Dormont</td>\n",
       "      <td>Chain Retail/Convenience Store</td>\n",
       "      <td>7.0</td>\n",
       "    </tr>\n",
       "  </tbody>\n",
       "</table>\n",
       "</div>"
      ],
      "text/plain": [
       "    municipal                    facility_type  violation_level_high\n",
       "327   Dormont           Restaurant with Liquor                  65.0\n",
       "328   Dormont        Restaurant without Liquor                  37.0\n",
       "329   Dormont  Chain Restaurant without Liquor                  24.0\n",
       "330   Dormont     Chain Restaurant with Liquor                   9.0\n",
       "331   Dormont   Chain Retail/Convenience Store                   7.0"
      ]
     },
     "execution_count": 156,
     "metadata": {},
     "output_type": "execute_result"
    }
   ],
   "source": [
    "df_viol_by_municipal.loc[df_viol_by_municipal['municipal'] == 'Dormont'].head()"
   ]
  },
  {
   "cell_type": "markdown",
   "metadata": {},
   "source": [
    "Based on the subset of municipalities, it is most likely that the facility type with the largest number of high level violations will be __restaurants with liquor__."
   ]
  },
  {
   "cell_type": "markdown",
   "metadata": {},
   "source": [
    "## Note to Self:\n",
    "\n",
    "Create a programmatic way to pull the first row of each grouped municipality.  This will give us a survey of the facility types with the largest number of high violation levels for all municipalities.  I was able to group by municipality and facility_type but couldn't figure out how to filter the resulting dataset (perhaps understanding multi-indexed dataframes more is necessary).  The workaround was to reindex the dataframe and filter from there, but this made it difficult to understand how to filter the top row for each municipality."
   ]
  }
 ],
 "metadata": {
  "kernelspec": {
   "display_name": "Python 3",
   "language": "python",
   "name": "python3"
  },
  "language_info": {
   "codemirror_mode": {
    "name": "ipython",
    "version": 3
   },
   "file_extension": ".py",
   "mimetype": "text/x-python",
   "name": "python",
   "nbconvert_exporter": "python",
   "pygments_lexer": "ipython3",
   "version": "3.6.10"
  }
 },
 "nbformat": 4,
 "nbformat_minor": 4
}
