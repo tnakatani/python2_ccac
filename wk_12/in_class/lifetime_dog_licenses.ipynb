{
 "cells": [
  {
   "cell_type": "markdown",
   "metadata": {},
   "source": [
    "# Lifetime Dog Licenses\n",
    "\n",
    "Source: \n",
    "\n",
    "https://data.wprdc.org/dataset/allegheny-county-dog-licenses/resource/f8ab32f7-44c7-43ca-98bf-c1b444724598"
   ]
  },
  {
   "cell_type": "markdown",
   "metadata": {},
   "source": [
    "## Section I: Regex Workshop\n",
    "\n",
    "Reference:\n",
    "- https://docs.python.org/3/howto/regex.html\n",
    "- https://docs.python.org/3/library/re.html"
   ]
  },
  {
   "cell_type": "code",
   "execution_count": 6,
   "metadata": {},
   "outputs": [],
   "source": []
  },
  {
   "cell_type": "code",
   "execution_count": 51,
   "metadata": {},
   "outputs": [],
   "source": [
    "# Vanilla Python\n",
    "\n",
    "import csv\n",
    "import re\n",
    "import itertools\n",
    "\n",
    "# Constants\n",
    "\n",
    "data = 'data/lifetime_dog_licenses.tsv'\n",
    "\n",
    "# Functions\n",
    "\n",
    "def match_string(string, data):\n",
    "    exp = re.compile(rf'{string}.*', re.IGNORECASE)\n",
    "    return exp.match(data)\n",
    "    \n",
    "def match_begin_end_with_go(data):\n",
    "    exp = re.compile(r'.*go.*go', re.IGNORECASE)\n",
    "    return exp.match(data)\n",
    "\n",
    "def match_begin_end_with_same_letter(data):\n",
    "    exp = re.compile(r'^([a-zA-Z]).*\\1$', re.IGNORECASE)\n",
    "    return exp.match(data)\n",
    "\n",
    "def iterate(reader, column_name, func):\n",
    "    count = 0\n",
    "    match_list = []\n",
    "    for row in reader:\n",
    "        column = row[column_name]\n",
    "        match = func(column)\n",
    "        if match:\n",
    "            count += 1\n",
    "            match_list.append(match.group(0))\n",
    "    return count, match_list"
   ]
  },
  {
   "cell_type": "code",
   "execution_count": 53,
   "metadata": {},
   "outputs": [
    {
     "name": "stdout",
     "output_type": "stream",
     "text": [
      "OrderedDict([('LicenseType', 'Dog Lifetime Spayed Female'), ('Breed', 'LABRADOR RETRIEVER'), ('Color', 'YELLOW'), ('DogName', 'SASHA'), ('OwnerZip', '15137'), ('ExpYear', '2099'), ('ValidDate', '2005-01-31T00:00:00')])\n",
      "OrderedDict([('LicenseType', 'Dog Lifetime Neutered Male'), ('Breed', 'LABRADOR RETRIEVER'), ('Color', 'BROWN'), ('DogName', 'JAKE'), ('OwnerZip', '15129'), ('ExpYear', '2099'), ('ValidDate', '2004-06-21T00:00:00')])\n",
      "OrderedDict([('LicenseType', 'Dog Lifetime Spayed Female'), ('Breed', 'MIXED'), ('Color', 'SPOTTED'), ('DogName', 'SHILOH'), ('OwnerZip', '15129'), ('ExpYear', '2099'), ('ValidDate', '2006-01-20T00:00:00')])\n",
      "OrderedDict([('LicenseType', 'Dog Lifetime Spayed Female'), ('Breed', 'LAB MIX'), ('Color', 'BROWN'), ('DogName', 'BLONDIE'), ('OwnerZip', '15140'), ('ExpYear', '2099'), ('ValidDate', '2005-07-18T00:00:00')])\n",
      "OrderedDict([('LicenseType', 'Dog Lifetime Spayed Female'), ('Breed', 'AUS SHEPHERD'), ('Color', 'MULTI'), ('DogName', 'SASHA'), ('OwnerZip', '15238'), ('ExpYear', '2099'), ('ValidDate', '2004-02-25T00:00:00')])\n"
     ]
    }
   ],
   "source": [
    "# View snapshot of data\n",
    "with open(data) as dogtags: \n",
    "    reader = csv.DictReader(dogtags, delimiter='\\t')\n",
    "    for row in itertools.islice(reader, 5):\n",
    "        print(row)"
   ]
  },
  {
   "cell_type": "code",
   "execution_count": 55,
   "metadata": {},
   "outputs": [
    {
     "name": "stdout",
     "output_type": "stream",
     "text": [
      "Matches: 1 ['GOGO']\n"
     ]
    }
   ],
   "source": [
    "# Match any dog name with 'go' and then 'go' somewhere else in the name\n",
    "with open(data) as dogtags:\n",
    "    reader = csv.DictReader(dogtags, delimiter='\\t')\n",
    "    match_count_gogo, match_list_gogo = iterate(reader, 'DogName', match_begin_end_with_go)\n",
    "    print(f'Matches: {match_count_gogo}', match_list_gogo)"
   ]
  },
  {
   "cell_type": "code",
   "execution_count": 56,
   "metadata": {},
   "outputs": [
    {
     "name": "stdout",
     "output_type": "stream",
     "text": [
      "Matches: 1062 ['OSO', 'KODIAK', 'ERNIE', 'OREO', 'OREO', 'ELLIE', 'ALLEGRA', 'SNICKERS', 'SEAMUS', 'NELSON']\n"
     ]
    }
   ],
   "source": [
    "with open(data) as dogtags: \n",
    "    reader = csv.DictReader(dogtags, delimiter='\\t')\n",
    "    match_count_same_letter, match_list_same_letter = iterate(reader, 'DogName', match_begin_end_with_same_letter)\n",
    "    print(f'Matches: {match_count_same_letter}', match_list_same_letter[:10])"
   ]
  },
  {
   "cell_type": "markdown",
   "metadata": {},
   "source": [
    "---\n",
    "\n",
    "## Section II: Matplotlib Workshop"
   ]
  },
  {
   "cell_type": "code",
   "execution_count": 58,
   "metadata": {},
   "outputs": [
    {
     "data": {
      "text/html": [
       "<div>\n",
       "<style scoped>\n",
       "    .dataframe tbody tr th:only-of-type {\n",
       "        vertical-align: middle;\n",
       "    }\n",
       "\n",
       "    .dataframe tbody tr th {\n",
       "        vertical-align: top;\n",
       "    }\n",
       "\n",
       "    .dataframe thead th {\n",
       "        text-align: right;\n",
       "    }\n",
       "</style>\n",
       "<table border=\"1\" class=\"dataframe\">\n",
       "  <thead>\n",
       "    <tr style=\"text-align: right;\">\n",
       "      <th></th>\n",
       "      <th>LicenseType</th>\n",
       "      <th>Breed</th>\n",
       "      <th>Color</th>\n",
       "      <th>DogName</th>\n",
       "      <th>OwnerZip</th>\n",
       "      <th>ExpYear</th>\n",
       "      <th>ValidDate</th>\n",
       "    </tr>\n",
       "  </thead>\n",
       "  <tbody>\n",
       "    <tr>\n",
       "      <th>0</th>\n",
       "      <td>Dog Lifetime Spayed Female</td>\n",
       "      <td>LABRADOR RETRIEVER</td>\n",
       "      <td>YELLOW</td>\n",
       "      <td>SASHA</td>\n",
       "      <td>15137</td>\n",
       "      <td>2099</td>\n",
       "      <td>2005-01-31T00:00:00</td>\n",
       "    </tr>\n",
       "    <tr>\n",
       "      <th>1</th>\n",
       "      <td>Dog Lifetime Neutered Male</td>\n",
       "      <td>LABRADOR RETRIEVER</td>\n",
       "      <td>BROWN</td>\n",
       "      <td>JAKE</td>\n",
       "      <td>15129</td>\n",
       "      <td>2099</td>\n",
       "      <td>2004-06-21T00:00:00</td>\n",
       "    </tr>\n",
       "    <tr>\n",
       "      <th>2</th>\n",
       "      <td>Dog Lifetime Spayed Female</td>\n",
       "      <td>MIXED</td>\n",
       "      <td>SPOTTED</td>\n",
       "      <td>SHILOH</td>\n",
       "      <td>15129</td>\n",
       "      <td>2099</td>\n",
       "      <td>2006-01-20T00:00:00</td>\n",
       "    </tr>\n",
       "    <tr>\n",
       "      <th>3</th>\n",
       "      <td>Dog Lifetime Spayed Female</td>\n",
       "      <td>LAB MIX</td>\n",
       "      <td>BROWN</td>\n",
       "      <td>BLONDIE</td>\n",
       "      <td>15140</td>\n",
       "      <td>2099</td>\n",
       "      <td>2005-07-18T00:00:00</td>\n",
       "    </tr>\n",
       "    <tr>\n",
       "      <th>4</th>\n",
       "      <td>Dog Lifetime Spayed Female</td>\n",
       "      <td>AUS SHEPHERD</td>\n",
       "      <td>MULTI</td>\n",
       "      <td>SASHA</td>\n",
       "      <td>15238</td>\n",
       "      <td>2099</td>\n",
       "      <td>2004-02-25T00:00:00</td>\n",
       "    </tr>\n",
       "  </tbody>\n",
       "</table>\n",
       "</div>"
      ],
      "text/plain": [
       "                  LicenseType               Breed    Color  DogName  OwnerZip  \\\n",
       "0  Dog Lifetime Spayed Female  LABRADOR RETRIEVER   YELLOW    SASHA     15137   \n",
       "1  Dog Lifetime Neutered Male  LABRADOR RETRIEVER    BROWN     JAKE     15129   \n",
       "2  Dog Lifetime Spayed Female               MIXED  SPOTTED   SHILOH     15129   \n",
       "3  Dog Lifetime Spayed Female             LAB MIX    BROWN  BLONDIE     15140   \n",
       "4  Dog Lifetime Spayed Female        AUS SHEPHERD    MULTI    SASHA     15238   \n",
       "\n",
       "   ExpYear            ValidDate  \n",
       "0     2099  2005-01-31T00:00:00  \n",
       "1     2099  2004-06-21T00:00:00  \n",
       "2     2099  2006-01-20T00:00:00  \n",
       "3     2099  2005-07-18T00:00:00  \n",
       "4     2099  2004-02-25T00:00:00  "
      ]
     },
     "execution_count": 58,
     "metadata": {},
     "output_type": "execute_result"
    }
   ],
   "source": [
    "import pandas as pd\n",
    "import numpy as np\n",
    "import matplotlib.pyplot as plt\n",
    "%matplotlib inline\n",
    "\n",
    "df = pd.read_csv('data/lifetime_dog_licenses.tsv', sep='\\t')\n",
    "df.head()"
   ]
  },
  {
   "cell_type": "code",
   "execution_count": 62,
   "metadata": {},
   "outputs": [
    {
     "data": {
      "text/plain": [
       "429"
      ]
     },
     "execution_count": 62,
     "metadata": {},
     "output_type": "execute_result"
    }
   ],
   "source": [
    "dog_name_counts = df['DogName'].value_counts()\n",
    "dog_name_counts[0]"
   ]
  },
  {
   "cell_type": "code",
   "execution_count": null,
   "metadata": {},
   "outputs": [],
   "source": [
    "def plot_table(freq_table):\n",
    "    \"\"\"Plot table into a line chart using matplotlib\n",
    "    Ref: https://matplotlib.org/examples/lines_bars_and_markers/barh_demo.html\n",
    "    \"\"\"\n",
    "    fig, ax = plt.subplots()\n",
    "    counts = freq_table.values()\n",
    "    y_pos = range(len(freq_table.keys()))\n",
    "    ax.barh(y_pos, counts, align='center')\n",
    "    ax.tick_params(axis='y', which='major', pad=15)\n",
    "    ax.set_yticks(y_pos)\n",
    "    ax.set_yticklabels(freq_table.keys())\n",
    "    ax.invert_yaxis()  # labels read top-to-bottom\n",
    "    ax.set_xlabel('Counts')"
   ]
  },
  {
   "cell_type": "code",
   "execution_count": 118,
   "metadata": {},
   "outputs": [
    {
     "name": "stdout",
     "output_type": "stream",
     "text": [
      "[0 3 1 5 3 8 6 9 5 9 1 1 7 5 1 4 0 0 6 3 6 3 4 9]\n"
     ]
    },
    {
     "data": {
      "image/png": "[encoded data removed]",
      "text/plain": [
       "<Figure size 432x288 with 1 Axes>"
      ]
     },
     "metadata": {
      "needs_background": "light"
     },
     "output_type": "display_data"
    }
   ],
   "source": [
    "hours = range(0, 24)\n",
    "energy_level = [0,0,0,0,0.25,0.5,1,2,3,4,6.5,8,9,8,7.5,7,6,5,4,3,1,0,0,0]\n",
    "random = np.random.randint(10, size=24)\n",
    "print(random)\n",
    "\n",
    "def plot_table(X1, X2, y):\n",
    "    fig, ax = plt.subplots()\n",
    "    y_pos = y\n",
    "    ax.tick_params(axis='y')\n",
    "    ax.plot(X1, X2, y)\n",
    "    ax.set_xlabel('Time (24 hours)')\n",
    "    ax.set_ylabel('Energy Level (1-10)')\n",
    "    ax.legend(X1)\n",
    "    ax.set_title('Energy Level in a Day')\n",
    "    plt.savefig('energy_level')\n",
    "\n",
    "plot_table(hours, energy_level, random)\n",
    "\n",
    "\n"
   ]
  },
  {
   "cell_type": "code",
   "execution_count": null,
   "metadata": {},
   "outputs": [],
   "source": []
  },
  {
   "cell_type": "code",
   "execution_count": null,
   "metadata": {},
   "outputs": [],
   "source": []
  }
 ],
 "metadata": {
  "kernelspec": {
   "display_name": "Python 3",
   "language": "python",
   "name": "python3"
  },
  "language_info": {
   "codemirror_mode": {
    "name": "ipython",
    "version": 3
   },
   "file_extension": ".py",
   "mimetype": "text/x-python",
   "name": "python",
   "nbconvert_exporter": "python",
   "pygments_lexer": "ipython3",
   "version": "3.6.10"
  }
 },
 "nbformat": 4,
 "nbformat_minor": 4
}
