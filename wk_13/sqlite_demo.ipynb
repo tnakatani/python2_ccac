{
 "cells": [
  {
   "cell_type": "code",
   "execution_count": 2,
   "metadata": {},
   "outputs": [],
   "source": [
    "import pandas as pd\n",
    "import sqlite3"
   ]
  },
  {
   "cell_type": "code",
   "execution_count": 3,
   "metadata": {},
   "outputs": [
    {
     "name": "stdout",
     "output_type": "stream",
     "text": [
      "Database created and Successfully Connected to SQLite\n",
      "SQLite Database Version is:  ('3.31.1',)\n",
      "The SQLite connection is closed.\n"
     ]
    }
   ],
   "source": [
    "try:\n",
    "    # Make the connection object\n",
    "    dbconn = sqlite3.connect('SQLite_Python_Demo1.db')\n",
    "    \n",
    "    # Make the cursor object\n",
    "    cursor = dbconn.cursor()\n",
    "    print(\"Database created and Successfully Connected to SQLite\")\n",
    "\n",
    "    # Build a query to select the version number from SQLie\n",
    "    select_query = \"select sqlite_version();\"\n",
    "    \n",
    "    # Execute the query with the cursor object\n",
    "    cursor.execute(select_query)\n",
    "    \n",
    "    # Fetch the first record (there will only be one)\n",
    "    # use fetchall or fetchmany to retrieve multiple records\n",
    "    record = cursor.fetchone()\n",
    "    print(\"SQLite Database Version is: \", record)\n",
    "except sqlite3.Error as error:\n",
    "    print(\"Error while connecting to SQlite\", error)\n",
    "finally:\n",
    "    #Always close the cursor and database connection\n",
    "    if dbconn:\n",
    "        cursor.close()\n",
    "        dbconn.close()\n",
    "        print(\"The SQLite connection is closed.\")"
   ]
  },
  {
   "cell_type": "code",
   "execution_count": null,
   "metadata": {},
   "outputs": [],
   "source": []
  }
 ],
 "metadata": {
  "kernelspec": {
   "display_name": "Python 3",
   "language": "python",
   "name": "python3"
  },
  "language_info": {
   "codemirror_mode": {
    "name": "ipython",
    "version": 3
   },
   "file_extension": ".py",
   "mimetype": "text/x-python",
   "name": "python",
   "nbconvert_exporter": "python",
   "pygments_lexer": "ipython3",
   "version": "3.6.10"
  }
 },
 "nbformat": 4,
 "nbformat_minor": 4
}
