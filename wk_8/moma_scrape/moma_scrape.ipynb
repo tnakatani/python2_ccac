{
 "cells": [
  {
   "cell_type": "markdown",
   "metadata": {},
   "source": [
    "# MoMA Online Archive Scrape\n",
    "\n",
    "![img](img/banner.png)\n",
    "\n",
    "This project uses `urllib` and `BeautifulSoup` libraries to scrape data from the Museum of Modern Art website."
   ]
  },
  {
   "cell_type": "code",
   "execution_count": 153,
   "metadata": {},
   "outputs": [],
   "source": [
    "import urllib\n",
    "import re\n",
    "from bs4 import BeautifulSoup\n",
    "\n",
    "def build_url(term):\n",
    "    \"\"\"Build a url to query MoMA website\"\"\"\n",
    "    url = (f'https://www.moma.org/artists/{term}?locale=en&page=1')\n",
    "    return url\n",
    "\n",
    "def get_url_response(url):\n",
    "    \"\"\"Get HTML response from url\"\"\"\n",
    "    req = urllib.request.Request(url)\n",
    "    with urllib.request.urlopen(req) as response:\n",
    "        return response.read()\n",
    "\n",
    "def build_a_soup(query):\n",
    "    \"\"\"Create a BeautifulSoup class from HTML response\"\"\"\n",
    "    return BeautifulSoup(get_url_response(build_url(query)), 'html.parser')"
   ]
  },
  {
   "cell_type": "code",
   "execution_count": 154,
   "metadata": {},
   "outputs": [],
   "source": [
    "# Each artists' archives have an associated ID.\n",
    "# Create a dictionary that contains a mapping between the artist name and their ID\n",
    "# on the MoMA \n",
    "artist_ids = {\n",
    "    \"le corbusier\": {\n",
    "        \"name\": \"le corbusier\",\n",
    "        \"id\": 3426},\n",
    "    \"mies van der rohe\": {\n",
    "        \"name\": \"mies van der rohe\",\n",
    "        \"id\": 7166\n",
    "    },\n",
    "    \"antoni gaudi\": {\n",
    "        \"name\": \"antoni gaudi\",\n",
    "        \"id\": 2096\n",
    "    },\n",
    "}"
   ]
  },
  {
   "cell_type": "code",
   "execution_count": 155,
   "metadata": {},
   "outputs": [],
   "source": [
    "# Create a BeautifulSoup class for each artist\n",
    "le_corbusier = build_a_soup(artist_ids['le corbusier']['id'])\n",
    "mies_van_der_rohe = build_a_soup(artist_ids['mies van der rohe']['id'])\n",
    "antoni_gaudi = build_a_soup(artist_ids['antoni gaudi']['id'])"
   ]
  },
  {
   "cell_type": "markdown",
   "metadata": {},
   "source": [
    "## Structure of Response Data\n",
    "\n",
    "The relevant HTML section we want to extract data has the following structure:\n",
    "\n",
    "```\n",
    "<li> - class \"grid-item--work\"\n",
    "└── <a> tag - link to artwork page\n",
    "    ├── <div> \n",
    "    │   └── <picture> tag\n",
    "    │       └── <img> tag\n",
    "    └── <div> with artwork data\n",
    "        └── <h3>\n",
    "            ├── <span> - artist name\n",
    "            ├── <span> - artwork name\n",
    "            └── <span> - artwork date\n",
    "```\n",
    "\n",
    "The goal is to pull the artwork data inside the `h3` tag."
   ]
  },
  {
   "cell_type": "code",
   "execution_count": 157,
   "metadata": {},
   "outputs": [
    {
     "name": "stdout",
     "output_type": "stream",
     "text": [
      "[('Le Corbusier (Charles-Édouard Jeanneret)', 'Bol, Pipes, et Papiers Enroulés', '1919'), ('Le Corbusier (Charles-Édouard Jeanneret)', 'Still Life', '1920'), ('Le Corbusier (Charles-Édouard Jeanneret)', \"L'Esprit Nouveau letterhead (Letter to Naum Gabo from Paul Dermée)\", '1920'), ('Le Corbusier (Charles-Édouard Jeanneret)', 'Still Life with Objects', '1923'), ('Alfred Roth, Le Corbusier (Charles-Édouard Jeanneret)', 'Bed Frame', '1927'), ('Le Corbusier (Charles-Édouard Jeanneret), Pierre Jeanneret', 'Les Terrasses, Villa Stein-de-Monzie, Garches, France', '1926'), ('Le Corbusier (Charles-Édouard Jeanneret), Pierre Jeanneret, Charlotte Perriand', 'Chaise Longue (LC/4)', '1928'), ('Le Corbusier (Charles-Édouard Jeanneret), Pierre Jeanneret, Charlotte Perriand', 'Armchair with a Tilting Back (Siège à Dossier Basculant)', '1928'), ('Le Corbusier (Charles-Édouard Jeanneret)', 'Urban projects for Montevideo and São Paulo, Brazil. Aerial perspectives', '1929'), ('Le Corbusier (Charles-Édouard Jeanneret), Pierre Jeanneret', 'Palace of the League of Nations, project, Geneva, Switzerland, Ground floor and site plan, second scheme', '1929'), ('Le Corbusier (Charles-Édouard Jeanneret)', '\"Ceci n\\'est pas l\\'architecture\" Drawing from Buenos Aires Lecture', '1929'), ('Le Corbusier (Charles-Édouard Jeanneret), Pierre Jeanneret', 'Villa Savoye, Poissy-sur-Seine, France', '1932'), ('Le Corbusier (Charles-Édouard Jeanneret), Pierre Jeanneret', 'Palace of the Soviets, Moscow', '1932'), ('Le Corbusier (Charles-Édouard Jeanneret), Pierre Jeanneret', 'Swiss Pavilion, Cité internationale universitaire de Paris, Paris, France, Side elevation', '1932'), ('Le Corbusier (Charles-Édouard Jeanneret), Pierre Jeanneret', 'Swiss Pavilion, Cité internationale universitaire de Paris, France, Perspective of north and west elevations', '1932'), ('Le Corbusier (Charles-Édouard Jeanneret), Pierre Jeanneret', 'Swiss Pavilion, Cité Universitaire, Paris, France', '1930'), ('Le Corbusier (Charles-Édouard Jeanneret)', 'Plans for Algiers and Barcelona and “cité-jardin verticale” (vertical garden city) drawing made during a lecture in Chicago November 27, 1935', '1935'), ('Le Corbusier (Charles-Édouard Jeanneret)', 'Le Corbusier, Oeuvre Plastique 1919-1937', '1937'), ('Le Corbusier (Charles-Édouard Jeanneret)', 'Tableaux et Architecture - Exhibition at Kunsthaus Zürich', '1938'), ('Le Corbusier (Charles-Édouard Jeanneret)', 'Le Corbusier letterhead', '1938'), ('Lucio Costa, Carlos Leão, Jorge Machado Moreira, Oscar Niemeyer, Affonso Eduardo Reidy, Ernani Vasconcelos, Le Corbusier (Charles-Édouard Jeanneret)', 'Ministry of Education and Health, Rio de Janeiro, Brazil', '1937'), ('Le Corbusier (Charles-Édouard Jeanneret)', 'Sand cast', '1951'), ('United Nations Headquarters Board of Design, Wallace K. Harrison, Max Abramovitz, Oscar Niemeyer, Le Corbusier (Charles-Édouard Jeanneret)', 'Façade from the United Nations Secretariat Building, New York, New York', '1952'), ('Le Corbusier (Charles-Édouard Jeanneret)', 'Œuvre Plastique 1953', '1953'), ('Le Corbusier (Charles-Édouard Jeanneret)', 'Muralnomad Tapestry ‘Les Musiciennes’', '1953'), ('Le Corbusier (Charles-Édouard Jeanneret), Pierre Jeanneret', 'Mill Owners Association Building, Ahmedabad, India', '1951'), ('Charlotte Perriand, Le Corbusier (Charles-Édouard Jeanneret), ATBAT', \"Kitchen from the Unité d'Habitation, Marseille, France\", '1952'), ('Le Corbusier (Charles-Édouard Jeanneret)', 'Maison Curutchet, La Plata, Argentina', '1949'), ('Le Corbusier (Charles-Édouard Jeanneret)', 'Chapelle Notre-Dame-du-Haut, Ronchamp', '1950'), ('Le Corbusier (Charles-Édouard Jeanneret)', \"Le Corbusier - Poeme de L'Angle Droit\", '1955'), ('Le Corbusier (Charles-Édouard Jeanneret)', 'Tower of Shadows, Chandigarh, India (Scale model)', '1957'), ('Le Corbusier (Charles-Édouard Jeanneret), Pierre Jeanneret, Charlotte Perriand', 'Easy Chair (Fauteuil Grand Confort)', '1928'), ('Le Corbusier (Charles-Édouard Jeanneret)', 'Cube stools', '1956'), ('Charlotte Perriand, Le Corbusier (Charles-Édouard Jeanneret)', 'Daybed from the Maison du Brésil', '1959'), ('Charlotte Perriand, Le Corbusier (Charles-Édouard Jeanneret), Lucio Costa', 'Room divider from the Maison du Brésil', '1959'), ('Charlotte Perriand, Le Corbusier (Charles-Édouard Jeanneret)', 'Shower door from the Maison du Brésil', '1959'), ('Charlotte Perriand, Le Corbusier (Charles-Édouard Jeanneret)', 'Table from the Maison du Brésil', '1959'), ('Charlotte Perriand, Le Corbusier (Charles-Édouard Jeanneret)', 'Wall bookcase and blackboard from the Maison du Brésil', '1959'), ('Le Corbusier (Charles-Édouard Jeanneret)', 'Exhibition Pavilion, Z.H.L.C., Zurich, Switzerland, Ground-floor plan', '1961'), ('Le Corbusier (Charles-Édouard Jeanneret)', 'Exhibition Pavilion, Z.H.L.C., Zurich, Switzerland, Second-floor plan', '1961'), ('Le Corbusier (Charles-Édouard Jeanneret)', 'Exhibition Pavilion, Z.H.L.C., Zurich, Switzerland, Third-floor plan', '1961'), ('Le Corbusier (Charles-Édouard Jeanneret)', 'Exhibition Pavilion, Z.H.L.C., Zurich, Switzerland, Longitudinal section', '1961'), ('Le Corbusier (Charles-Édouard Jeanneret)', 'Exhibition Pavilion, Z.H.L.C., Zurich, Switzerland, Cross section', '1961'), ('Le Corbusier (Charles-Édouard Jeanneret)', 'Exhibition Pavilion, Z.H.L.C., Zurich, Switzerland, Cross section', '1961'), ('Le Corbusier (Charles-Édouard Jeanneret)', 'Exhibition Pavilion, Z.H.L.C., Zurich, Switzerland, North façade', '1961'), ('Le Corbusier (Charles-Édouard Jeanneret)', 'Exhibition Pavilion, Z.H.L.C., Zurich, Switzerland, East façade', '1961'), ('Le Corbusier (Charles-Édouard Jeanneret)', 'Exhibition Pavilion, Z.H.L.C., Zurich, Switzerland, West façade', '1961'), ('Le Corbusier (Charles-Édouard Jeanneret)', 'Assembly Hall, Chandigarh, India (Model of the roof structure)', '1964'), ('Le Corbusier (Charles-Édouard Jeanneret)', 'Unité', '1963'), ('Le Corbusier (Charles-Édouard Jeanneret)', 'Unité', '1963'), ('Le Corbusier (Charles-Édouard Jeanneret)', 'Unité', '1963'), ('Le Corbusier (Charles-Édouard Jeanneret)', 'Unité', '1963'), ('Le Corbusier (Charles-Édouard Jeanneret)', 'Unité', '1963'), ('Le Corbusier (Charles-Édouard Jeanneret)', 'Unité', '1963'), ('Le Corbusier (Charles-Édouard Jeanneret)', 'Unité', '1963'), ('Le Corbusier (Charles-Édouard Jeanneret)', 'Unité', '1963'), ('Le Corbusier (Charles-Édouard Jeanneret)', 'Unité', '1963'), ('Le Corbusier (Charles-Édouard Jeanneret)', 'Unité', '1963'), ('Le Corbusier (Charles-Édouard Jeanneret)', 'Unité', '1963'), ('Le Corbusier (Charles-Édouard Jeanneret)', 'Unité', '1963'), ('Le Corbusier (Charles-Édouard Jeanneret)', 'Unité', '1963'), ('Le Corbusier (Charles-Édouard Jeanneret)', 'Unité', '1963'), ('Le Corbusier (Charles-Édouard Jeanneret)', 'Unité', '1963'), ('Le Corbusier (Charles-Édouard Jeanneret)', 'Unité', '1963'), ('Le Corbusier (Charles-Édouard Jeanneret)', 'Unité', '1963'), ('Le Corbusier (Charles-Édouard Jeanneret)', 'Unité', '1963'), ('Le Corbusier (Charles-Édouard Jeanneret)', 'Unité', '1963'), ('Le Corbusier (Charles-Édouard Jeanneret)', 'Unité', '1963'), ('Le Corbusier (Charles-Édouard Jeanneret)', 'Unité', '1963'), ('Le Corbusier (Charles-Édouard Jeanneret)', 'Hospital, Venice 1962–65. Elevation', '1967'), ('Le Corbusier (Charles-Édouard Jeanneret), Pierre Jeanneret', \"Governor's Palace (Raj Bhaven) project, Chandigarh, India\", '1951'), ('Le Corbusier (Charles-Édouard Jeanneret), Pierre Jeanneret', 'Cité de Refuge, Paris, France', '1929'), ('Richard Pare, Le Corbusier (Charles-Édouard Jeanneret)', \"Unité d'Habitation, Marseille, France (View of roof terrace)\", '2011'), ('Richard Pare, Le Corbusier (Charles-Édouard Jeanneret)', 'Villa Savoye, Poissy-sur-Seine, France (Exterior view)', '2012'), ('Richard Pare, Le Corbusier (Charles-Édouard Jeanneret)', 'Chapel de Notre-Dame-du-Haut, Ronchamp, France (Exterior view)', '2012'), ('Richard Pare, Le Corbusier (Charles-Édouard Jeanneret)', 'Assembly Hall, Chandigarh, India (Interior view)', '2012'), ('Richard Pare, Le Corbusier (Charles-Édouard Jeanneret)', 'Villa Savoye, Poissy-sur-Seine, France (Exterior view)', '2012')] \n",
      "\n",
      "[('Ludwig Mies van der Rohe', 'Bismarck Monument Project, Bingen, Germany, Elevation', '1910'), ('Ludwig Mies van der Rohe', 'Bismarck Monument Project, Bingen, Germany (Perspective)', '1910'), ('Ludwig Mies van der Rohe', 'Bismarck Monument, project, Bingen, Germany, Perspective view of courtyard', '1910'), ('Ludwig Mies van der Rohe', 'Werner House, Berlin-Zehlendorf,  Germany, Four elevations', '1913'), ('Ludwig Mies van der Rohe', 'Werner House, Berlin-Zehlendorf, Germany (Four elevations, section)', '1913'), ('Ludwig Mies van der Rohe', 'Werner House, Berlin-Zehlendorf, Germany, Four plans', '1913'), ('Ludwig Mies van der Rohe', 'Werner House, Berlin-Zehlendorf, Germany, Four elevations, section', '1913'), ('Ludwig Mies van der Rohe', 'Werner House, Berlin-Zehlendorf, Germany (Basement plan)', '1913'), ('Ludwig Mies van der Rohe', 'Werner House, Berlin-Zehlendorf, Germany (Second floor and attic plans)', '1913'), ('Ludwig Mies van der Rohe', 'Werner House, Berlin-Zehlendorf, Germany (Ground floor plan)', '1913'), ('Ludwig Mies van der Rohe', 'Kröller-Müller Villa Project, Wassenaar, The Netherlands (Sketch plan of ground floor)', '1912'), ('Ludwig Mies van der Rohe', 'Urbig House, Potsdam-Neubabelsberg, Germany (Sections, staircase)', '1915'), ('Ludwig Mies van der Rohe', 'Urbig House, Potsdam-Neubabelsberg, Germany (Elevations, sections. Chimney details.)', '1915'), ('Ludwig Mies van der Rohe', 'Friedrichstrasse Skyscraper Project, Berlin-Mitte, Germany', '1921'), ('Ludwig Mies van der Rohe', 'Friedrichstrasse Skyscraper Project, Berlin-Mitte, Germany (Floor plan)', '1921'), ('Ludwig Mies van der Rohe', 'Friedrichstrasse Skyscraper Project, Berlin-Mitte, Germany (Typical floor plan)', '1921'), ('Ludwig Mies van der Rohe', 'Friedrichstrasse Skyscraper Project, Berlin-Mitte, Germany (Floor plan)', '1921'), ('Ludwig Mies van der Rohe', 'Friedrichstrasse Skyscraper Project, Berlin-Mitte, Germany (Perspective)', '1921'), ('Ludwig Mies van der Rohe', 'Friedrichstrasse Skyscraper Project, Berlin-Mitte, Germany (Floor plan)', '1921'), ('Ludwig Mies van der Rohe', 'Friedrichstrasse Skyscraper Project, Berlin-Mitte, Germany (Exterior perspective from north)', '1921'), ('Ludwig Mies van der Rohe', 'Friedrichstrasse Skyscraper Project, Berlin-Mitte, Germany (Elevation study)', '1921'), ('Ludwig Mies van der Rohe', 'Friedrichstrasse Skyscraper, project, Berlin-Mitte, Germany, Urban context model', '1921'), ('Ludwig Mies van der Rohe', 'Glass Skyscraper Project (Floor plan)', '1922'), ('Ludwig Mies van der Rohe', 'Glass Skyscraper, project', '1922'), ('Ludwig Mies van der Rohe', 'Glass Skyscraper Project (Floorplan)', '1922'), ('Ludwig Mies van der Rohe', 'Glass Skyscraper project (Elevation study)', '1922'), ('Ludwig Mies van der Rohe', 'Glass Skyscraper project (View of lost model)', '1922'), ('Ludwig Mies van der Rohe', 'Concrete Office Building, project, Berlin, Germany (Letter with view of building)', '1923'), ('Ludwig Mies van der Rohe', 'Concrete Country House Project (Perspective)', '1923'), ('Ludwig Mies van der Rohe', 'Concrete Office Building Project, Berlin, Germany (Exterior perspective)', '1923'), ('Ludwig Mies van der Rohe', 'Eichstaedt House, Berlin-Nikolassee, Germany, Landscape model', '1921'), ('Hans Richter, El Lissitzky, Werner Graeff, Ludwig Mies van der Rohe, Frederick Kiesler', 'G: Material zur elementaren Gestaltung (Material for Elementary Construction) no.1, July 1923', '1923'), ('Hans Richter, Werner Graeff, Ludwig Mies van der Rohe', 'G: Material zur elementaren Gestaltung (Material for Elementary Construction) no.2, September 1923', '1923'), ('Hans Richter, Werner Graeff, Frederick Kiesler, Ludwig Mies van der Rohe', 'G: Zeitschrift für elementare Gestaltung (Journal for Elementary Construction) no.3, June 1924', '1924'), ('Ludwig Mies van der Rohe', 'Eliat House Project, Potsdam-Nedlitz, Germany, Perspective', '1925'), ('Ludwig Mies van der Rohe', 'Monument to the November Revolution, Berlin-Lichtenberg, Germany, (Lettering study)', '1926'), ('Ludwig Mies van der Rohe', 'Monument to the November Revolution, Berlin-Lichtenberg, Germany, (Lettering study)', '1926'), ('Ludwig Mies van der Rohe', 'Monument to the November Revolution, Berlin-Lichtenberg, Germany, Site plan, section and elevation,', '1926'), ('Ludwig Mies van der Rohe', 'Monument to the November Revolution, Berlin-Lichtenberg, Germany, (Elevation)', '1926'), ('Ludwig Mies van der Rohe', 'Monument to the November Revolution, Berlin-Lichtenberg, Germany (Elevation, lettering study)', '1926'), ('Ludwig Mies van der Rohe', 'Monument to the November Revolution, Berlin-Lichtenberg, Germany (Elevation)', '1926'), ('Ludwig Mies van der Rohe', 'Monument to the November Revolution, Berlin-Lichtenberg, Germany, Lettering study', '1926'), ('Ludwig Mies van der Rohe', 'Weissenhof Housing Colony Master Plan, \"The Dwelling,\" Stuttgart, Germany, Site elevation study from east', '1926'), ('Ludwig Mies van der Rohe, Lilly Reich', 'Die Wohnung, Weissenhofsiedlung Werkbund Exposition, Stuttgart, Germany (Plan for the Glass Industry Exhibit)', '1926'), ('Ludwig Mies van der Rohe', 'Weissenhof Apartment House, \"The Dwelling\" Exhibition, Stuttgart, Germany (Upper floor plan, interior perspectives)', '1926'), ('Ludwig Mies van der Rohe', 'Weissenhof Apartment House, \"The Dwelling\" Exhibition, Stuttgart, Germany (First, second and third floor plan)', '1926'), ('Ludwig Mies van der Rohe', 'Weissenhof Apartment House, \"The Dwelling\" Exhibition, Stuttgart, Germany (Upper floor plan)', '1926'), ('Ludwig Mies van der Rohe', 'Weissenhof Housing Colony Master Plan, \"The Dwelling\", Stuttgart, Germany (Preliminary plan, house)', '1926'), ('Hans Richter, Werner Graeff, Ludwig Mies van der Rohe', 'G: Zeitschrift für elementare Gestaltung (Journal for Elementary Construction) no.4, March 1926', '1926'), ('Hans Richter, Werner Graeff, Ludwig Mies van der Rohe', 'G: Zeitschrift für elementare Gestaltung (Journal for Elementary Construction) no.5-6, April 1926', '1926'), ('Ludwig Mies van der Rohe', 'Wolf House, Gubin, Poland (Elevation, two sections. Garden shed door and and fastening of pergola trellis)', '1925'), ('Ludwig Mies van der Rohe', 'Wolf House, Gubin, Poland (Elevation, plan, section)', '1925'), ('Ludwig Mies van der Rohe', 'Wolf House, Gubin, Poland (South wall elevation)', '1925'), ('Ludwig Mies van der Rohe', 'Wolf House, Gubin, Poland (Ground floor plan [final version])', '1925'), ('Ludwig Mies van der Rohe', 'Wolf House, Gubin, Poland (Second and third floor plans [final version])', '1925'), ('Ludwig Mies van der Rohe', 'Wolf House, Gubin, Poland, Plan. Roof, partial detail.', '1925'), ('Ludwig Mies van der Rohe', 'Wolf House, Gubin, Poland (Basement plan [final version])', '1925'), ('Ludwig Mies van der Rohe', 'Wolf House, Gubin, Poland (Second floor plan [final version])', '1925'), ('Ludwig Mies van der Rohe', 'Wolf House, Gubin, Poland (Third floor plan [final version])', '1925'), ('Ludwig Mies van der Rohe', 'Wolf House, Gubin, Poland (Basement plan)', '1925'), ('Ludwig Mies van der Rohe', 'Wolf House, Gubin, Poland, Site plan', '1925'), ('Ludwig Mies van der Rohe', 'Wolf House, Gubin, Poland, Ground-floor plan', '1925'), ('Ludwig Mies van der Rohe', 'Wolf House, Gubin, Poland (Basement plan [final version])', '1925'), ('Ludwig Mies van der Rohe', 'Wolf House, Gubin, Poland', '1925'), ('Ludwig Mies van der Rohe', 'Wolf House, Gubin, Poland, North and west elevations', '1925'), ('Ludwig Mies van der Rohe', 'Weissenhof Apartment House, \"The Dwelling\" Exhibition, Stuttgart, Germany, Section. Roof garden door', '1926'), ('Ludwig Mies van der Rohe', 'Weissenhof Apartment House, \"The Dwelling\" Exhibition, Stuttgart, Germany (Section, inner core of window pillar)', '1926'), ('Ludwig Mies van der Rohe', 'Weissenhof Apartment House, \"The Dwelling\" Exhibition, Stuttgart, Germany (Section, ground-floor door)', '1926'), ('Ludwig Mies van der Rohe', 'Wolf House, Gubin, Poland, Two sections', '1925'), ('Ludwig Mies van der Rohe', 'Wolf House, Gubin, Poland (Basement plan [final version])', '1925'), ('Ludwig Mies van der Rohe', 'Wolf House, Gubin, Poland (Basement plan [final version])', '1925'), ('Ludwig Mies van der Rohe', 'Wolf House, Gubin, Poland (Sections: typical walls)', '1925'), ('Ludwig Mies van der Rohe', 'Wolf House, Gubin, Poland, Plan', '1925'), ('Ludwig Mies van der Rohe', 'Weissenhof Apartment House, \"The Dwelling\" Exhibition, Stuttgart, Germany, East elevation', '1926'), ('Ludwig Mies van der Rohe', 'Wolf House, Gubin, Poland (Section: all floors)', '1925'), ('Ludwig Mies van der Rohe', 'Weissenhof Apartment House, \"The Dwelling\" Exhibition, Stuttgart, Germany, West elevation', '1926'), ('Ludwig Mies van der Rohe', 'Wolf House, Gubin, Poland (Basement plan [final version])', '1925'), ('Ludwig Mies van der Rohe', 'Weissenhof Apartment House, \"The Dwelling\" Exhibition, Stuttgart, Germany, Floor plan', '1926'), ('Ludwig Mies van der Rohe', 'Wolf House, Gubin, Poland (Elevation, plans, section. Ground, second floor and right half of east side)', '1925'), ('Ludwig Mies van der Rohe', 'Wolf House, Gubin, Poland (Ground floor plan [final version])', '1925'), ('Ludwig Mies van der Rohe', 'Wolf House, Gubin, Poland (Plan: ground floor entrance area)', '1925'), ('Ludwig Mies van der Rohe', 'Wolf House, Gubin, Poland (Elevation and plan: ground, second, third floors)', '1925'), ('Ludwig Mies van der Rohe', 'Weissenhof Housing Colony Master Plan, \"The Dwelling,\" Stuttgart, Germany (Site plan)', '1926'), ('Ludwig Mies van der Rohe', 'Wolf House, Gubin, Poland (Elevation and plan: ground floor [north side])', '1925'), ('Ludwig Mies van der Rohe', 'Wolf House, Gubin, Poland (Elevation: second and third floors)', '1925'), ('Ludwig Mies van der Rohe', 'Wolf House, Gubin, Poland (Elevation and plans: ground and second floors)', '1925'), ('Ludwig Mies van der Rohe', 'Wolf House, Gubin, Poland (Elevation: second and third floors)', '1925'), ('Ludwig Mies van der Rohe', 'Weissenhof Housing Colony Master Plan, \"The Dwelling,\" Stuttgart, Germany (Site plan)', '1926'), ('Ludwig Mies van der Rohe', 'Wolf House, Gubin, Poland (Sections and elevation: window frames)', '1925'), ('Ludwig Mies van der Rohe', 'Wolf House, Gubin, Poland (Sections: door frames)', '1925'), ('Ludwig Mies van der Rohe', 'Wolf House, Gubin, Poland (Sections and plan: balcony railing)', '1925'), ('Ludwig Mies van der Rohe', 'Wolf House, Gubin, Poland, Balcony and playground railing. Two elevations, sections.', '1925'), ('Ludwig Mies van der Rohe', 'Wolf House, Gubin, Poland', '1925'), ('Ludwig Mies van der Rohe', 'Weissenhof Apartment House, \"The Dwelling\" Exhibition, Stuttgart, Germany (Section, framing system and footings)', '1926'), ('Ludwig Mies van der Rohe', 'Weissenhof Apartment House, \"The Dwelling\" Exhibition, Stuttgart, Germany (Section, framing system and footings)', '1926'), ('Ludwig Mies van der Rohe', 'Weissenhof Apartment House, \"The Dwelling\" Exhibition, Stuttgart, Germany, Section. Retaining wall', '1926'), ('Ludwig Mies van der Rohe', 'Weissenhof Apartment House, \"The Dwelling\" Exhibition, Stuttgart, Germany (Plan, apartment)', '1926'), ('Ludwig Mies van der Rohe', 'Weissenhof Apartment House, \"The Dwelling\" Exhibition, Stuttgart, Germany (Plan, framing system. Interior perspective.)', '1926'), ('Ludwig Mies van der Rohe', 'Weissenhof Housing Colony Master Plan, \"The Dwelling,\" Stuttgart, Germany (Plan)', '1926'), ('Lilly Reich, Ludwig Mies van der Rohe', 'Die Wohnung, Weissenhofsiedlung Werkbund Exposition, Stuttgart, Germany (View of the main hall)', '1927')] \n",
      "\n",
      "[('Antoni Gaudí', 'Floor Tiles from the Casa Mila, Barcelona', '1905'), ('Antoni Gaudí', 'Grille from the Casa Milá (La Pedrera), Barcelona, Spain', '1906'), ('Antoni Gaudí', 'Prayer Bench', '1898'), ('Antoni Gaudí', 'Church of the Sagrada Familia, Barcelona, Spain (Model of a column)', '1883'), ('Antoni Gaudí', 'Church of the Sagrada Familia, Barcelona, Spain (Model of a nave window)', '1883'), ('Antoni Gaudí', 'Side Chair', '1905'), ('Aurèlia Muñoz, Antoni Gaudí', 'Study of a catenary arch for the Gaudí crypt at Colonia Güell', '1996')] \n",
      "\n"
     ]
    },
    {
     "data": {
      "text/plain": [
       "[None, None, None]"
      ]
     },
     "execution_count": 157,
     "metadata": {},
     "output_type": "execute_result"
    }
   ],
   "source": [
    "# Find out how many artworks are in MoMA's online collection\n",
    "# for each artist\n",
    "# le_corbusier_works = le_corbusier.find_all('li','grid-item--work')\n",
    "\n",
    "def extract_year(string):\n",
    "    \"\"\"Extra year string from HTML tag\"\"\"\n",
    "    return re.search(r'\\d{4}', string)\n",
    "\n",
    "def validate_string(data):\n",
    "    \"\"\"Validate whether string exists and return a cleaned string\"\"\"\n",
    "    # Some titles are wrapped in an <em> tag inside span\n",
    "    if data.find(\"em\"):\n",
    "        return data.find(\"em\").string\n",
    "    elif data.string is not None:\n",
    "        return data.string.strip()\n",
    "    return None\n",
    "\n",
    "def get_artwork_data(soup_object):\n",
    "    \"\"\"Parse through HTML tags and extract artwork date\"\"\"\n",
    "    artist_works = soup_object.find_all('li', 'grid-item--work')\n",
    "    works_year = []\n",
    "    for work in artist_works:\n",
    "        # get span tags that contain artwork data\n",
    "        data = work.find_all(\"span\")\n",
    "\n",
    "        artist = validate_string(data[0])\n",
    "        title = validate_string(data[1])\n",
    "        year = validate_string(data[2])\n",
    "        works_year.append((artist,\n",
    "                           title,\n",
    "                           extract_year(year).group(0)))\n",
    "    return (works_year)\n",
    "\n",
    "c_dates = get_artwork_data(le_corbusier)\n",
    "m_dates = get_artwork_data(mies_van_der_rohe)\n",
    "a_dates = get_artwork_data(antoni_gaudi)\n",
    "\n",
    "artworks = [c_dates, m_dates, a_dates]\n",
    "\n",
    "[print(work,'\\n') for work in artworks]"
   ]
  },
  {
   "cell_type": "code",
   "execution_count": null,
   "metadata": {},
   "outputs": [],
   "source": []
  }
 ],
 "metadata": {
  "kernelspec": {
   "display_name": "Python [conda env:root] *",
   "language": "python",
   "name": "conda-root-py"
  },
  "language_info": {
   "codemirror_mode": {
    "name": "ipython",
    "version": 3
   },
   "file_extension": ".py",
   "mimetype": "text/x-python",
   "name": "python",
   "nbconvert_exporter": "python",
   "pygments_lexer": "ipython3",
   "version": "3.6.10"
  }
 },
 "nbformat": 4,
 "nbformat_minor": 4
}
