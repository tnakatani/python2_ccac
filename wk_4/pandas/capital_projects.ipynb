{
 "cells": [
  {
   "cell_type": "code",
   "execution_count": 238,
   "metadata": {},
   "outputs": [
    {
     "name": "stdout",
     "output_type": "stream",
     "text": [
      "Python version: Python 3.6.10 :: Anaconda, Inc.\n",
      "Pandas version: 0.25.3\n"
     ]
    }
   ],
   "source": [
    "version = !python -V\n",
    "print('Python version:', version[0])\n",
    "print('Pandas version:', pd.__version__)"
   ]
  },
  {
   "cell_type": "code",
   "execution_count": 237,
   "metadata": {},
   "outputs": [],
   "source": [
    "import pandas as pd\n",
    "import json\n",
    "import csv\n",
    "\n",
    "df = pd.read_csv('../data/pgh_capital_projects.csv')\n",
    "specs = './specifications/specifications.json'"
   ]
  },
  {
   "cell_type": "markdown",
   "metadata": {},
   "source": [
    "## Create Frequency Table of Null Values"
   ]
  },
  {
   "cell_type": "code",
   "execution_count": 231,
   "metadata": {},
   "outputs": [
    {
     "data": {
      "text/plain": [
       "id                         0\n",
       "name                       2\n",
       "task_description           7\n",
       "area                       2\n",
       "budgeted_amount            3\n",
       "status                     0\n",
       "asset_id                 478\n",
       "asset_type                 0\n",
       "fiscal_year                0\n",
       "start_date                 0\n",
       "inactive                 394\n",
       "neighborhood             378\n",
       "council_district         376\n",
       "ward                     378\n",
       "tract                    374\n",
       "public_works_division    378\n",
       "pli_division             378\n",
       "police_zone              379\n",
       "fire_zone                378\n",
       "latitude                   0\n",
       "longitude                  0\n",
       "dtype: int64"
      ]
     },
     "execution_count": 231,
     "metadata": {},
     "output_type": "execute_result"
    }
   ],
   "source": [
    "null_table = df.isnull().sum()\n",
    "null_table"
   ]
  },
  {
   "cell_type": "code",
   "execution_count": 234,
   "metadata": {},
   "outputs": [],
   "source": [
    "# export to JSON file\n",
    "null_table.to_json('./output/null_table_notebook.json')"
   ]
  },
  {
   "cell_type": "markdown",
   "metadata": {},
   "source": [
    "## Query Dataset Based on Specified Fields"
   ]
  },
  {
   "cell_type": "code",
   "execution_count": 236,
   "metadata": {},
   "outputs": [],
   "source": [
    "def lowercase_list(l):\n",
    "    \"\"\"Transform list items to string type and convert to lowercase\n",
    "\n",
    "    Args:\n",
    "        l: List of specification values\n",
    "    \"\"\"\n",
    "    return [str(i).lower() for i in l]\n",
    "\n",
    "def compare_lists(spec, l):\n",
    "    \"\"\"Return a boolean series based on whether each dataframe contains specified value\n",
    "    \n",
    "    Args:\n",
    "        spec: Specification column name (String)\n",
    "        l: List of specification values\n",
    "    \"\"\"\n",
    "    return df[spec].str.lower().isin(lowercase_list(l))\n",
    "\n",
    "# Set up step: Convert fiscal_year to string so we can use compare_lists() on that column\n",
    "df['fiscal_year'] = df['fiscal_year'].astype(str)\n",
    "df.dtypes\n",
    "\n",
    "with open(specs) as s:\n",
    "    specification = json.load(s)\n",
    "    status = specification['status']\n",
    "    neighborhood = specification['neighborhood']\n",
    "    fiscal_year = specification['fiscal_year']\n",
    "    area = lowercase_list(specification['area'])\n",
    "\n",
    "    result = df.loc[compare_lists('status', status) \\\n",
    "          & compare_lists('neighborhood', neighborhood) \\\n",
    "          & compare_lists('fiscal_year', fiscal_year) \\\n",
    "          & compare_lists('area', area)][['id','status','neighborhood','fiscal_year','area']]\n",
    "    \n",
    "    result.to_json('./output/query_output_notebook')"
   ]
  }
 ],
 "metadata": {
  "kernelspec": {
   "display_name": "Python [conda env:root] *",
   "language": "python",
   "name": "conda-root-py"
  },
  "language_info": {
   "codemirror_mode": {
    "name": "ipython",
    "version": 3
   },
   "file_extension": ".py",
   "mimetype": "text/x-python",
   "name": "python",
   "nbconvert_exporter": "python",
   "pygments_lexer": "ipython3",
   "version": "3.6.10"
  }
 },
 "nbformat": 4,
 "nbformat_minor": 4
}
